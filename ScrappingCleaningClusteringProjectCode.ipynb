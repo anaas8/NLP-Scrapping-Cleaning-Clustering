{
 "cells": [
  {
   "cell_type": "markdown",
   "metadata": {},
   "source": [
    "<h1>Selected 3 Project</h1>"
   ]
  },
  {
   "cell_type": "markdown",
   "metadata": {},
   "source": [
    "<h2>there is two phases into this project</h2> \n",
    "<h3> phase 1</h3>\n",
    "\n",
    "**Project Requirements :**<br>\n",
    "1- Make scrapping on the website and collect data<br>\n",
    "2- clean the scrapped data<br>\n",
    "3- auto correct the scrapped data<br>\n",
    "4- Save your data in csv file \"Data sheet\" <br>\n",
    "with the columns like \" Author - title - publishing year - link for pdf - etc. \"<br>\n",
    "5- cluster this data for topic modeling<br>\n",
    "**The website for scrapping : https://www.arab-books.com**"
   ]
  },
  {
   "cell_type": "markdown",
   "metadata": {},
   "source": [
    " **importing libraries**"
   ]
  },
  {
   "cell_type": "code",
   "execution_count": 1,
   "metadata": {},
   "outputs": [],
   "source": [
    "from bs4 import BeautifulSoup\n",
    "import requests\n",
    "import csv\n",
    "from itertools import zip_longest\n",
    "import re\n",
    "import pandas as pd\n",
    "import string\n",
    "import nltk\n",
    "from nltk.tokenize import word_tokenize , sent_tokenize\n",
    "import numpy as np"
   ]
  },
  {
   "cell_type": "markdown",
   "metadata": {},
   "source": [
    "<h2>1- Make scrapping on the website: www.arab-books.com and collect data</h2>"
   ]
  },
  {
   "cell_type": "markdown",
   "metadata": {},
   "source": [
    "<h3>Request to get all books from the website</h3><br>\n",
    "\n",
    "there are **200 pages** on the website Each page have on average **30 book**"
   ]
  },
  {
   "cell_type": "code",
   "execution_count": 2,
   "metadata": {},
   "outputs": [],
   "source": [
    "main_src = []\n",
    "for i in range(1,201):\n",
    "  main_src.append(requests.get(\"https://www.arab-books.com//page/\"+str(i)).text)"
   ]
  },
  {
   "cell_type": "code",
   "execution_count": 3,
   "metadata": {},
   "outputs": [],
   "source": [
    "main_soup = []\n",
    "for src in main_src:\n",
    "  main_soup.append(BeautifulSoup(src, 'lxml'))"
   ]
  },
  {
   "cell_type": "code",
   "execution_count": 4,
   "metadata": {},
   "outputs": [],
   "source": [
    "all_books_src = [] \n",
    "for soup in main_soup :\n",
    " all_books_src = all_books_src + soup.find_all('li',class_='post-item tie-standard')"
   ]
  },
  {
   "cell_type": "code",
   "execution_count": 5,
   "metadata": {},
   "outputs": [],
   "source": [
    "all_books_title=[]\n",
    "for soup in main_soup :\n",
    "  all_books_title = all_books_title + soup.find_all(\"div\",{\"class\":\"excerpt-book\"}) "
   ]
  },
  {
   "cell_type": "code",
   "execution_count": 6,
   "metadata": {},
   "outputs": [],
   "source": [
    "all_books_title[0:10]"
   ]
  },
  {
   "cell_type": "code",
   "execution_count": 7,
   "metadata": {
    "scrolled": true
   },
   "outputs": [
    {
     "data": {
      "text/plain": [
       "5984"
      ]
     },
     "execution_count": 7,
     "metadata": {},
     "output_type": "execute_result"
    }
   ],
   "source": [
    "books_titles=[]\n",
    "for title in all_books_title :\n",
    "  books_titles.append(title.text)\n",
    "len(books_titles)"
   ]
  },
  {
   "cell_type": "code",
   "execution_count": 8,
   "metadata": {
    "collapsed": true
   },
   "outputs": [
    {
     "data": {
      "text/plain": [
       "['https://www.arab-books.com/books/%d9%83%d8%aa%d8%a7%d8%a8-%d8%a7%d9%84%d8%aa%d8%b6%d8%ad%d9%8a%d8%a9-%d8%b9%d9%86%d8%af-%d8%a7%d9%84%d8%ad%d9%8a%d9%88%d8%a7%d9%86-pdf/',\n",
       " 'https://www.arab-books.com/books/%d9%83%d8%aa%d8%a7%d8%a8-%d9%85%d8%b9%d8%ac%d8%b2%d8%a9-%d8%a7%d9%84%d8%b0%d8%b1%d8%a9-pdf/',\n",
       " 'https://www.arab-books.com/books/%d9%83%d8%aa%d8%a7%d8%a8-%d9%84%d8%a7-%d8%aa%d8%aa%d8%ac%d8%a7%d9%87%d9%84-pdf/',\n",
       " 'https://www.arab-books.com/books/%d9%83%d8%aa%d8%a7%d8%a8-%d8%a7%d9%84%d8%ad%d9%8a%d8%a7%d8%a9-%d9%81%d9%8a-%d8%b3%d8%a8%d9%8a%d9%84-%d8%a7%d9%84%d9%84%d9%87-pdf/',\n",
       " 'https://www.arab-books.com/books/%d9%83%d8%aa%d8%a7%d8%a8-%d8%a7%d9%84%d8%b9%d8%b8%d9%85%d8%a9-%d9%81%d9%8a-%d9%83%d9%84-%d9%85%d9%83%d8%a7%d9%86-pdf/',\n",
       " 'https://www.arab-books.com/books/%d9%83%d8%aa%d8%a7%d8%a8-%d9%85%d8%b9%d8%ac%d8%b2%d8%a9-%d8%a7%d9%84%d8%ac%d9%87%d8%a7%d8%b2-%d8%a7%d9%84%d9%85%d9%86%d8%a7%d8%b9%d9%8a-pdf/',\n",
       " 'https://www.arab-books.com/books/%d9%83%d8%aa%d8%a7%d8%a8-%d8%a7%d9%84%d8%b1%d9%88%d9%85%d9%86%d8%b3%d9%8a%d8%a9-%d8%b3%d9%84%d8%a7%d8%ad-%d8%a8%d9%8a%d8%af-%d8%a7%d9%84%d8%b4%d9%8a%d8%b7%d8%a7%d9%86-pdf/',\n",
       " 'https://www.arab-books.com/books/%d9%83%d8%aa%d8%a7%d8%a8-%d8%b1%d8%ad%d9%84%d8%a9-%d9%81%d9%8a-%d8%a7%d9%84%d9%83%d9%88%d9%86-pdf/',\n",
       " 'https://www.arab-books.com/books/%d9%83%d8%aa%d8%a7%d8%a8-%d8%a7%d9%84%d8%aa%d8%b5%d9%85%d9%8a%d9%85-%d9%81%d9%8a-%d8%a7%d9%84%d8%b7%d8%a8%d9%8a%d8%b9%d8%a9-pdf/',\n",
       " 'https://www.arab-books.com/books/%d9%83%d8%aa%d8%a7%d8%a8-%d9%85%d8%b9%d8%ac%d8%b2%d8%a9-%d8%ae%d9%84%d9%82-%d8%a7%d9%84%d8%a5%d9%86%d8%b3%d8%a7%d9%86-pdf/']"
      ]
     },
     "execution_count": 8,
     "metadata": {},
     "output_type": "execute_result"
    }
   ],
   "source": [
    "url_pattern = \"http([^\\\"]+)\"\n",
    "URl_RegEx = re.compile(url_pattern)\n",
    "Books_urls=[]\n",
    "for Object in all_books_title :\n",
    "  myResult = URl_RegEx.search(str(Object))\n",
    "  Books_urls.append(myResult.group())\n",
    "Books_urls[:10]"
   ]
  },
  {
   "cell_type": "code",
   "execution_count": 9,
   "metadata": {},
   "outputs": [
    {
     "data": {
      "text/plain": [
       "5984"
      ]
     },
     "execution_count": 9,
     "metadata": {},
     "output_type": "execute_result"
    }
   ],
   "source": [
    "len(Books_urls)"
   ]
  },
  {
   "cell_type": "markdown",
   "metadata": {},
   "source": [
    "We have now the url and title of **5984 books**"
   ]
  },
  {
   "cell_type": "markdown",
   "metadata": {},
   "source": [
    "<h3>Request to get more information about each book </h3>\n"
   ]
  },
  {
   "cell_type": "code",
   "execution_count": 10,
   "metadata": {
    "collapsed": true
   },
   "outputs": [
    {
     "name": "stdout",
     "output_type": "stream",
     "text": [
      "200\n",
      "400\n",
      "600\n",
      "800\n",
      "1000\n",
      "1200\n",
      "1400\n",
      "1600\n",
      "1800\n",
      "2000\n",
      "2200\n",
      "2400\n",
      "2600\n",
      "2800\n",
      "3000\n",
      "3200\n",
      "3400\n",
      "3600\n",
      "3800\n",
      "4000\n",
      "4200\n",
      "4400\n",
      "4600\n",
      "4800\n",
      "5000\n",
      "5200\n",
      "5400\n",
      "5600\n",
      "5800\n"
     ]
    }
   ],
   "source": [
    "i=0\n",
    "scoup_src = []\n",
    "for book in Books_urls :\n",
    "    scoup_src.append(requests.get(book,allow_redirects=False).text)\n",
    "    i+=1\n",
    "    if(i%200==0):\n",
    "        print(len(scoup_src))"
   ]
  },
  {
   "cell_type": "code",
   "execution_count": 11,
   "metadata": {},
   "outputs": [
    {
     "data": {
      "text/plain": [
       "5984"
      ]
     },
     "execution_count": 11,
     "metadata": {},
     "output_type": "execute_result"
    }
   ],
   "source": [
    "scoop_soup = []\n",
    "for page in scoup_src:\n",
    "  scoop_soup.append(BeautifulSoup(page, 'lxml'))\n",
    "len(scoop_soup)"
   ]
  },
  {
   "cell_type": "code",
   "execution_count": 12,
   "metadata": {},
   "outputs": [],
   "source": [
    "scoop_books_info = [] \n",
    "scoop_books_summary=[]\n",
    "for soop_page in scoop_soup :\n",
    "    scoop_books_info = scoop_books_info + soop_page.find_all('div',class_=\"book-info\")\n",
    "    scoop_books_summary = scoop_books_summary + soop_page.find_all('div',class_=\"entry-content entry clearfix\")"
   ]
  },
  {
   "cell_type": "code",
   "execution_count": 13,
   "metadata": {},
   "outputs": [],
   "source": [
    "scoop_books_info[0]"
   ]
  },
  {
   "cell_type": "code",
   "execution_count": 14,
   "metadata": {},
   "outputs": [],
   "source": [
    "scoop_books_summary[0]"
   ]
  },
  {
   "cell_type": "code",
   "execution_count": 15,
   "metadata": {},
   "outputs": [],
   "source": [
    "books_info=[]\n",
    "for book_info in scoop_books_info:\n",
    "    new_book_info=[]\n",
    "    for info in book_info.find_all(\"li\"):\n",
    "        new_book_info.append(info.text.split(\":\"))\n",
    "    books_info.append(new_book_info)"
   ]
  },
  {
   "cell_type": "code",
   "execution_count": 16,
   "metadata": {},
   "outputs": [],
   "source": [
    "books_info[0]"
   ]
  },
  {
   "cell_type": "code",
   "execution_count": 17,
   "metadata": {},
   "outputs": [],
   "source": [
    "src_download_url=[]\n",
    "for book_url in scoop_soup:\n",
    "  src_download_url = src_download_url + book_url.find_all('div',class_=\"down-link-bottom\")"
   ]
  },
  {
   "cell_type": "code",
   "execution_count": 17,
   "metadata": {},
   "outputs": [],
   "source": [
    "src_download_url[:5]"
   ]
  },
  {
   "cell_type": "code",
   "execution_count": 18,
   "metadata": {},
   "outputs": [],
   "source": [
    "Books_download_urls=[]\n",
    "for src_url in src_download_url :\n",
    "  myResult = URl_RegEx.search(str(src_url))\n",
    "  Books_download_urls.append(myResult.group())\n",
    "Books_download_urls[:10]"
   ]
  },
  {
   "cell_type": "code",
   "execution_count": 19,
   "metadata": {},
   "outputs": [],
   "source": [
    "books_titles[0]"
   ]
  },
  {
   "cell_type": "code",
   "execution_count": 20,
   "metadata": {},
   "outputs": [],
   "source": [
    "scoop_books_summary[0]"
   ]
  },
  {
   "cell_type": "code",
   "execution_count": 21,
   "metadata": {},
   "outputs": [],
   "source": [
    "books_summary=[]\n",
    "for text in scoop_books_summary:\n",
    "    books_summary.append(text.find_all('p'))\n",
    "books_summary"
   ]
  },
  {
   "cell_type": "code",
   "execution_count": 22,
   "metadata": {},
   "outputs": [],
   "source": [
    "books_summary[0]"
   ]
  },
  {
   "cell_type": "code",
   "execution_count": 23,
   "metadata": {},
   "outputs": [],
   "source": [
    "Books_download_urls[0]"
   ]
  },
  {
   "cell_type": "code",
   "execution_count": 26,
   "metadata": {},
   "outputs": [],
   "source": [
    "books_Authors = []\n",
    "books_Class = []\n",
    "books_Language=[]\n",
    "books_Pages =[]\n",
    "books_publisher=[]\n",
    "book_Size =[]\n",
    "book_format =[]\n",
    "for Book_Info in books_info :\n",
    "  books_Authors.append(Book_Info[0][1])\n",
    "  books_Class.append(Book_Info[1][1])\n",
    "  books_Language.append(Book_Info[2][1])\n",
    "  books_Pages.append(Book_Info[3][1])\n",
    "  books_publisher.append(Book_Info[4][1])\n",
    "  book_Size.append(Book_Info[5][1])\n",
    "  book_format.append(Book_Info[6][1])"
   ]
  },
  {
   "cell_type": "code",
   "execution_count": 24,
   "metadata": {},
   "outputs": [],
   "source": [
    "len(book_Size)"
   ]
  },
  {
   "cell_type": "markdown",
   "metadata": {},
   "source": [
    "**Now we have all information about our 5984 books**<br>\n",
    "\n",
    "Lets save the data in a csv"
   ]
  },
  {
   "cell_type": "code",
   "execution_count": 28,
   "metadata": {},
   "outputs": [],
   "source": [
    "data_list=[books_titles,books_Authors,books_summary,books_Class,books_Language,books_Pages,books_publisher,book_Size,book_format,Books_download_urls,Books_urls]\n",
    "exported=zip_longest(*data_list)"
   ]
  },
  {
   "cell_type": "code",
   "execution_count": 29,
   "metadata": {},
   "outputs": [],
   "source": [
    "with open(\"Scrapped_Data.csv\",\"w\",encoding=\"utf-8\") as Scrapped_Data:\n",
    "  wr=csv.writer(Scrapped_Data)\n",
    "  wr.writerow([\"BookTitle\",\"Author\",\"BookSummary\",\"Class\",\"Language\",\"Pages\",\"publisher\",\"BookSize\",\"format\",\"DownloadURL\",\"PageURL\"])\n",
    "  wr.writerows(exported)"
   ]
  },
  {
   "cell_type": "markdown",
   "metadata": {},
   "source": [
    "<h2>2-Clean Scrapped Data</h2>"
   ]
  },
  {
   "cell_type": "code",
   "execution_count": 25,
   "metadata": {},
   "outputs": [
    {
     "data": {
      "text/html": [
       "<div>\n",
       "<style scoped>\n",
       "    .dataframe tbody tr th:only-of-type {\n",
       "        vertical-align: middle;\n",
       "    }\n",
       "\n",
       "    .dataframe tbody tr th {\n",
       "        vertical-align: top;\n",
       "    }\n",
       "\n",
       "    .dataframe thead th {\n",
       "        text-align: right;\n",
       "    }\n",
       "</style>\n",
       "<table border=\"1\" class=\"dataframe\">\n",
       "  <thead>\n",
       "    <tr style=\"text-align: right;\">\n",
       "      <th></th>\n",
       "      <th>BookTitle</th>\n",
       "      <th>Author</th>\n",
       "      <th>BookSummary</th>\n",
       "      <th>Class</th>\n",
       "      <th>Language</th>\n",
       "      <th>Pages</th>\n",
       "      <th>publisher</th>\n",
       "      <th>BookSize</th>\n",
       "      <th>format</th>\n",
       "      <th>DownloadURL</th>\n",
       "      <th>PageURL</th>\n",
       "    </tr>\n",
       "  </thead>\n",
       "  <tbody>\n",
       "    <tr>\n",
       "      <th>0</th>\n",
       "      <td>\\r\\nكتاب التضحية عند الحيوان PDF\\r\\n</td>\n",
       "      <td>\\r\\nكتب الكاتب هارون يحيى\\r\\nكتب الكاتب هارون ...</td>\n",
       "      <td>[&lt;p&gt;الروايات والكتب العربية تعتبر من الروابط ب...</td>\n",
       "      <td>\\r\\nتحميل كتب الأدب العربي\\r\\nتحميل كتب متنوع...</td>\n",
       "      <td>عربي</td>\n",
       "      <td>160 صفحة</td>\n",
       "      <td>عدنان أوكطار</td>\n",
       "      <td>5 ميغابايت</td>\n",
       "      <td>pdf</td>\n",
       "      <td>https://www.arab-books.com/books/%d9%83%d8%aa%...</td>\n",
       "      <td>https://www.arab-books.com/books/%d9%83%d8%aa%...</td>\n",
       "    </tr>\n",
       "    <tr>\n",
       "      <th>1</th>\n",
       "      <td>\\r\\nكتاب معجزة الذرة PDF\\r\\n</td>\n",
       "      <td>\\r\\nكتب الكاتب هارون يحيى\\r\\nكتب الكاتب هارون ...</td>\n",
       "      <td>[&lt;p&gt;الروايات والكتب العربية تعتبر من الروابط ب...</td>\n",
       "      <td>\\r\\nتحميل كتب تطوير الذات\\r\\nتحميل كتب متنوعة...</td>\n",
       "      <td>عربي</td>\n",
       "      <td>136 صفحة</td>\n",
       "      <td>عدنان أوكطار</td>\n",
       "      <td>3.41 ميغابايت</td>\n",
       "      <td>pdf</td>\n",
       "      <td>https://www.arab-books.com/books/%d9%83%d8%aa%...</td>\n",
       "      <td>https://www.arab-books.com/books/%d9%83%d8%aa%...</td>\n",
       "    </tr>\n",
       "  </tbody>\n",
       "</table>\n",
       "</div>"
      ],
      "text/plain": [
       "                              BookTitle  \\\n",
       "0  \\r\\nكتاب التضحية عند الحيوان PDF\\r\\n   \n",
       "1          \\r\\nكتاب معجزة الذرة PDF\\r\\n   \n",
       "\n",
       "                                              Author  \\\n",
       "0  \\r\\nكتب الكاتب هارون يحيى\\r\\nكتب الكاتب هارون ...   \n",
       "1  \\r\\nكتب الكاتب هارون يحيى\\r\\nكتب الكاتب هارون ...   \n",
       "\n",
       "                                         BookSummary  \\\n",
       "0  [<p>الروايات والكتب العربية تعتبر من الروابط ب...   \n",
       "1  [<p>الروايات والكتب العربية تعتبر من الروابط ب...   \n",
       "\n",
       "                                               Class Language      Pages  \\\n",
       "0   \\r\\nتحميل كتب الأدب العربي\\r\\nتحميل كتب متنوع...     عربي   160 صفحة   \n",
       "1   \\r\\nتحميل كتب تطوير الذات\\r\\nتحميل كتب متنوعة...     عربي   136 صفحة   \n",
       "\n",
       "       publisher        BookSize format  \\\n",
       "0   عدنان أوكطار      5 ميغابايت    pdf   \n",
       "1   عدنان أوكطار   3.41 ميغابايت    pdf   \n",
       "\n",
       "                                         DownloadURL  \\\n",
       "0  https://www.arab-books.com/books/%d9%83%d8%aa%...   \n",
       "1  https://www.arab-books.com/books/%d9%83%d8%aa%...   \n",
       "\n",
       "                                             PageURL  \n",
       "0  https://www.arab-books.com/books/%d9%83%d8%aa%...  \n",
       "1  https://www.arab-books.com/books/%d9%83%d8%aa%...  "
      ]
     },
     "execution_count": 25,
     "metadata": {},
     "output_type": "execute_result"
    }
   ],
   "source": [
    "#read Scrapped_Dataset to clean it\n",
    "data=pd.read_csv(\"Scrapped_Data.csv\")\n",
    "data.head(2)"
   ]
  },
  {
   "cell_type": "code",
   "execution_count": 26,
   "metadata": {},
   "outputs": [
    {
     "data": {
      "text/plain": [
       "(5984, 11)"
      ]
     },
     "execution_count": 26,
     "metadata": {},
     "output_type": "execute_result"
    }
   ],
   "source": [
    "data.shape"
   ]
  },
  {
   "cell_type": "code",
   "execution_count": 27,
   "metadata": {
    "scrolled": true
   },
   "outputs": [
    {
     "data": {
      "text/html": [
       "<div>\n",
       "<style scoped>\n",
       "    .dataframe tbody tr th:only-of-type {\n",
       "        vertical-align: middle;\n",
       "    }\n",
       "\n",
       "    .dataframe tbody tr th {\n",
       "        vertical-align: top;\n",
       "    }\n",
       "\n",
       "    .dataframe thead th {\n",
       "        text-align: right;\n",
       "    }\n",
       "</style>\n",
       "<table border=\"1\" class=\"dataframe\">\n",
       "  <thead>\n",
       "    <tr style=\"text-align: right;\">\n",
       "      <th></th>\n",
       "      <th>BookTitle</th>\n",
       "      <th>Author</th>\n",
       "      <th>BookSummary</th>\n",
       "      <th>Class</th>\n",
       "      <th>Language</th>\n",
       "      <th>Pages</th>\n",
       "      <th>publisher</th>\n",
       "      <th>BookSize</th>\n",
       "      <th>format</th>\n",
       "      <th>DownloadURL</th>\n",
       "      <th>PageURL</th>\n",
       "    </tr>\n",
       "  </thead>\n",
       "  <tbody>\n",
       "    <tr>\n",
       "      <th>5982</th>\n",
       "      <td>\\r\\nالقران الكريم باللغة الانجليزية -Quran wit...</td>\n",
       "      <td>NaN</td>\n",
       "      <td>NaN</td>\n",
       "      <td>NaN</td>\n",
       "      <td>NaN</td>\n",
       "      <td>NaN</td>\n",
       "      <td>NaN</td>\n",
       "      <td>NaN</td>\n",
       "      <td>NaN</td>\n",
       "      <td>NaN</td>\n",
       "      <td>https://www.arab-books.com/books/%d8%a7%d9%84%...</td>\n",
       "    </tr>\n",
       "    <tr>\n",
       "      <th>5983</th>\n",
       "      <td>\\r\\nLe Saint Coran en français\\r\\n</td>\n",
       "      <td>NaN</td>\n",
       "      <td>NaN</td>\n",
       "      <td>NaN</td>\n",
       "      <td>NaN</td>\n",
       "      <td>NaN</td>\n",
       "      <td>NaN</td>\n",
       "      <td>NaN</td>\n",
       "      <td>NaN</td>\n",
       "      <td>NaN</td>\n",
       "      <td>https://www.arab-books.com/books/le-saint-cora...</td>\n",
       "    </tr>\n",
       "  </tbody>\n",
       "</table>\n",
       "</div>"
      ],
      "text/plain": [
       "                                              BookTitle Author BookSummary  \\\n",
       "5982  \\r\\nالقران الكريم باللغة الانجليزية -Quran wit...    NaN         NaN   \n",
       "5983                 \\r\\nLe Saint Coran en français\\r\\n    NaN         NaN   \n",
       "\n",
       "     Class Language Pages publisher BookSize format DownloadURL  \\\n",
       "5982   NaN      NaN   NaN       NaN      NaN    NaN         NaN   \n",
       "5983   NaN      NaN   NaN       NaN      NaN    NaN         NaN   \n",
       "\n",
       "                                                PageURL  \n",
       "5982  https://www.arab-books.com/books/%d8%a7%d9%84%...  \n",
       "5983  https://www.arab-books.com/books/le-saint-cora...  "
      ]
     },
     "execution_count": 27,
     "metadata": {},
     "output_type": "execute_result"
    }
   ],
   "source": [
    "data.tail(2)"
   ]
  },
  {
   "cell_type": "code",
   "execution_count": 28,
   "metadata": {},
   "outputs": [
    {
     "data": {
      "text/html": [
       "<div>\n",
       "<style scoped>\n",
       "    .dataframe tbody tr th:only-of-type {\n",
       "        vertical-align: middle;\n",
       "    }\n",
       "\n",
       "    .dataframe tbody tr th {\n",
       "        vertical-align: top;\n",
       "    }\n",
       "\n",
       "    .dataframe thead th {\n",
       "        text-align: right;\n",
       "    }\n",
       "</style>\n",
       "<table border=\"1\" class=\"dataframe\">\n",
       "  <thead>\n",
       "    <tr style=\"text-align: right;\">\n",
       "      <th></th>\n",
       "      <th>BookTitle</th>\n",
       "      <th>Author</th>\n",
       "      <th>BookSummary</th>\n",
       "      <th>Class</th>\n",
       "      <th>Language</th>\n",
       "      <th>Pages</th>\n",
       "      <th>publisher</th>\n",
       "      <th>BookSize</th>\n",
       "      <th>format</th>\n",
       "      <th>DownloadURL</th>\n",
       "      <th>PageURL</th>\n",
       "    </tr>\n",
       "  </thead>\n",
       "  <tbody>\n",
       "    <tr>\n",
       "      <th>count</th>\n",
       "      <td>5898</td>\n",
       "      <td>5898</td>\n",
       "      <td>5898</td>\n",
       "      <td>5898</td>\n",
       "      <td>5898</td>\n",
       "      <td>5898</td>\n",
       "      <td>5898</td>\n",
       "      <td>5898</td>\n",
       "      <td>5898</td>\n",
       "      <td>5898</td>\n",
       "      <td>5898</td>\n",
       "    </tr>\n",
       "    <tr>\n",
       "      <th>unique</th>\n",
       "      <td>5792</td>\n",
       "      <td>600</td>\n",
       "      <td>5370</td>\n",
       "      <td>290</td>\n",
       "      <td>21</td>\n",
       "      <td>791</td>\n",
       "      <td>784</td>\n",
       "      <td>1143</td>\n",
       "      <td>11</td>\n",
       "      <td>5898</td>\n",
       "      <td>5898</td>\n",
       "    </tr>\n",
       "    <tr>\n",
       "      <th>top</th>\n",
       "      <td>\\r\\nكتاب نهاية العالم PDF\\r\\n</td>\n",
       "      <td>\\r\\nكتب أحمد خالد توفيق\\r\\n</td>\n",
       "      <td>[&lt;p&gt;&lt;span style=\"font-size: 24px; font-weight:...</td>\n",
       "      <td>\\r\\nتحميل كتب اسلامية\\r\\n</td>\n",
       "      <td>عربي</td>\n",
       "      <td>1 صفحة</td>\n",
       "      <td></td>\n",
       "      <td>1 ميغابايت</td>\n",
       "      <td>pdf</td>\n",
       "      <td>https://www.arab-books.com/books/%d9%83%d8%aa%...</td>\n",
       "      <td>https://www.arab-books.com/books/%d9%83%d8%aa%...</td>\n",
       "    </tr>\n",
       "    <tr>\n",
       "      <th>freq</th>\n",
       "      <td>3</td>\n",
       "      <td>298</td>\n",
       "      <td>69</td>\n",
       "      <td>1230</td>\n",
       "      <td>3837</td>\n",
       "      <td>133</td>\n",
       "      <td>686</td>\n",
       "      <td>640</td>\n",
       "      <td>4048</td>\n",
       "      <td>1</td>\n",
       "      <td>1</td>\n",
       "    </tr>\n",
       "  </tbody>\n",
       "</table>\n",
       "</div>"
      ],
      "text/plain": [
       "                            BookTitle                       Author  \\\n",
       "count                            5898                         5898   \n",
       "unique                           5792                          600   \n",
       "top     \\r\\nكتاب نهاية العالم PDF\\r\\n  \\r\\nكتب أحمد خالد توفيق\\r\\n   \n",
       "freq                                3                          298   \n",
       "\n",
       "                                              BookSummary  \\\n",
       "count                                                5898   \n",
       "unique                                               5370   \n",
       "top     [<p><span style=\"font-size: 24px; font-weight:...   \n",
       "freq                                                   69   \n",
       "\n",
       "                             Class Language    Pages publisher     BookSize  \\\n",
       "count                         5898     5898     5898      5898         5898   \n",
       "unique                         290       21      791       784         1143   \n",
       "top      \\r\\nتحميل كتب اسلامية\\r\\n     عربي   1 صفحة             1 ميغابايت   \n",
       "freq                          1230     3837      133       686          640   \n",
       "\n",
       "       format                                        DownloadURL  \\\n",
       "count    5898                                               5898   \n",
       "unique     11                                               5898   \n",
       "top       pdf  https://www.arab-books.com/books/%d9%83%d8%aa%...   \n",
       "freq     4048                                                  1   \n",
       "\n",
       "                                                  PageURL  \n",
       "count                                                5898  \n",
       "unique                                               5898  \n",
       "top     https://www.arab-books.com/books/%d9%83%d8%aa%...  \n",
       "freq                                                    1  "
      ]
     },
     "execution_count": 28,
     "metadata": {},
     "output_type": "execute_result"
    }
   ],
   "source": [
    "#Remove dublicated and null rows\n",
    "data=data.dropna()\n",
    "data=data.drop_duplicates()\n",
    "data.describe()"
   ]
  },
  {
   "cell_type": "code",
   "execution_count": 29,
   "metadata": {},
   "outputs": [
    {
     "data": {
      "text/html": [
       "<div>\n",
       "<style scoped>\n",
       "    .dataframe tbody tr th:only-of-type {\n",
       "        vertical-align: middle;\n",
       "    }\n",
       "\n",
       "    .dataframe tbody tr th {\n",
       "        vertical-align: top;\n",
       "    }\n",
       "\n",
       "    .dataframe thead th {\n",
       "        text-align: right;\n",
       "    }\n",
       "</style>\n",
       "<table border=\"1\" class=\"dataframe\">\n",
       "  <thead>\n",
       "    <tr style=\"text-align: right;\">\n",
       "      <th></th>\n",
       "      <th>BookTitle</th>\n",
       "      <th>Author</th>\n",
       "      <th>BookSummary</th>\n",
       "      <th>Class</th>\n",
       "      <th>Language</th>\n",
       "      <th>Pages</th>\n",
       "      <th>publisher</th>\n",
       "      <th>BookSize</th>\n",
       "      <th>format</th>\n",
       "      <th>DownloadURL</th>\n",
       "      <th>PageURL</th>\n",
       "    </tr>\n",
       "  </thead>\n",
       "  <tbody>\n",
       "    <tr>\n",
       "      <th>0</th>\n",
       "      <td>\\r\\nكتاب التضحية عند الحيوان PDF\\r\\n</td>\n",
       "      <td>\\r\\nكتب الكاتب هارون يحيى\\r\\nكتب الكاتب هارون ...</td>\n",
       "      <td>[&lt;p&gt;الروايات والكتب العربية تعتبر من الروابط ب...</td>\n",
       "      <td>\\r\\nتحميل كتب الأدب العربي\\r\\nتحميل كتب متنوع...</td>\n",
       "      <td>عربي</td>\n",
       "      <td>160 صفحة</td>\n",
       "      <td>عدنان أوكطار</td>\n",
       "      <td>5 ميغابايت</td>\n",
       "      <td>pdf</td>\n",
       "      <td>https://www.arab-books.com/books/%d9%83%d8%aa%...</td>\n",
       "      <td>https://www.arab-books.com/books/%d9%83%d8%aa%...</td>\n",
       "    </tr>\n",
       "    <tr>\n",
       "      <th>1</th>\n",
       "      <td>\\r\\nكتاب معجزة الذرة PDF\\r\\n</td>\n",
       "      <td>\\r\\nكتب الكاتب هارون يحيى\\r\\nكتب الكاتب هارون ...</td>\n",
       "      <td>[&lt;p&gt;الروايات والكتب العربية تعتبر من الروابط ب...</td>\n",
       "      <td>\\r\\nتحميل كتب تطوير الذات\\r\\nتحميل كتب متنوعة...</td>\n",
       "      <td>عربي</td>\n",
       "      <td>136 صفحة</td>\n",
       "      <td>عدنان أوكطار</td>\n",
       "      <td>3.41 ميغابايت</td>\n",
       "      <td>pdf</td>\n",
       "      <td>https://www.arab-books.com/books/%d9%83%d8%aa%...</td>\n",
       "      <td>https://www.arab-books.com/books/%d9%83%d8%aa%...</td>\n",
       "    </tr>\n",
       "  </tbody>\n",
       "</table>\n",
       "</div>"
      ],
      "text/plain": [
       "                              BookTitle  \\\n",
       "0  \\r\\nكتاب التضحية عند الحيوان PDF\\r\\n   \n",
       "1          \\r\\nكتاب معجزة الذرة PDF\\r\\n   \n",
       "\n",
       "                                              Author  \\\n",
       "0  \\r\\nكتب الكاتب هارون يحيى\\r\\nكتب الكاتب هارون ...   \n",
       "1  \\r\\nكتب الكاتب هارون يحيى\\r\\nكتب الكاتب هارون ...   \n",
       "\n",
       "                                         BookSummary  \\\n",
       "0  [<p>الروايات والكتب العربية تعتبر من الروابط ب...   \n",
       "1  [<p>الروايات والكتب العربية تعتبر من الروابط ب...   \n",
       "\n",
       "                                               Class Language      Pages  \\\n",
       "0   \\r\\nتحميل كتب الأدب العربي\\r\\nتحميل كتب متنوع...     عربي   160 صفحة   \n",
       "1   \\r\\nتحميل كتب تطوير الذات\\r\\nتحميل كتب متنوعة...     عربي   136 صفحة   \n",
       "\n",
       "       publisher        BookSize format  \\\n",
       "0   عدنان أوكطار      5 ميغابايت    pdf   \n",
       "1   عدنان أوكطار   3.41 ميغابايت    pdf   \n",
       "\n",
       "                                         DownloadURL  \\\n",
       "0  https://www.arab-books.com/books/%d9%83%d8%aa%...   \n",
       "1  https://www.arab-books.com/books/%d9%83%d8%aa%...   \n",
       "\n",
       "                                             PageURL  \n",
       "0  https://www.arab-books.com/books/%d9%83%d8%aa%...  \n",
       "1  https://www.arab-books.com/books/%d9%83%d8%aa%...  "
      ]
     },
     "execution_count": 29,
     "metadata": {},
     "output_type": "execute_result"
    }
   ],
   "source": [
    "data.head(2)"
   ]
  },
  {
   "cell_type": "code",
   "execution_count": 30,
   "metadata": {},
   "outputs": [
    {
     "data": {
      "text/html": [
       "<div>\n",
       "<style scoped>\n",
       "    .dataframe tbody tr th:only-of-type {\n",
       "        vertical-align: middle;\n",
       "    }\n",
       "\n",
       "    .dataframe tbody tr th {\n",
       "        vertical-align: top;\n",
       "    }\n",
       "\n",
       "    .dataframe thead th {\n",
       "        text-align: right;\n",
       "    }\n",
       "</style>\n",
       "<table border=\"1\" class=\"dataframe\">\n",
       "  <thead>\n",
       "    <tr style=\"text-align: right;\">\n",
       "      <th></th>\n",
       "      <th>BookTitle</th>\n",
       "      <th>Author</th>\n",
       "      <th>BookSummary</th>\n",
       "    </tr>\n",
       "  </thead>\n",
       "  <tbody>\n",
       "    <tr>\n",
       "      <th>0</th>\n",
       "      <td>\\r\\nكتاب التضحية عند الحيوان PDF\\r\\n</td>\n",
       "      <td>\\r\\nكتب الكاتب هارون يحيى\\r\\nكتب الكاتب هارون ...</td>\n",
       "      <td>[&lt;p&gt;الروايات والكتب العربية تعتبر من الروابط ب...</td>\n",
       "    </tr>\n",
       "    <tr>\n",
       "      <th>1</th>\n",
       "      <td>\\r\\nكتاب معجزة الذرة PDF\\r\\n</td>\n",
       "      <td>\\r\\nكتب الكاتب هارون يحيى\\r\\nكتب الكاتب هارون ...</td>\n",
       "      <td>[&lt;p&gt;الروايات والكتب العربية تعتبر من الروابط ب...</td>\n",
       "    </tr>\n",
       "    <tr>\n",
       "      <th>2</th>\n",
       "      <td>\\r\\nكتاب لا تتجاهل PDF\\r\\n</td>\n",
       "      <td>\\r\\nكتب الكاتب هارون يحيى\\r\\nكتب الكاتب هارون ...</td>\n",
       "      <td>[&lt;p&gt;الروايات والكتب العربية تعتبر من الروابط ب...</td>\n",
       "    </tr>\n",
       "    <tr>\n",
       "      <th>3</th>\n",
       "      <td>\\r\\nكتاب الحياة في سبيل الله PDF\\r\\n</td>\n",
       "      <td>\\r\\nكتب الكاتب هارون يحيى\\r\\nكتب الكاتب هارون ...</td>\n",
       "      <td>[&lt;p&gt;الروايات والكتب العربية تعتبر من الروابط ب...</td>\n",
       "    </tr>\n",
       "    <tr>\n",
       "      <th>4</th>\n",
       "      <td>\\r\\nكتاب العظمة في كل مكان PDF\\r\\n</td>\n",
       "      <td>\\r\\nكتب الكاتب هارون يحيى\\r\\nكتب الكاتب هارون ...</td>\n",
       "      <td>[&lt;p&gt;الروايات والكتب العربية تعتبر من الروابط ب...</td>\n",
       "    </tr>\n",
       "  </tbody>\n",
       "</table>\n",
       "</div>"
      ],
      "text/plain": [
       "                              BookTitle  \\\n",
       "0  \\r\\nكتاب التضحية عند الحيوان PDF\\r\\n   \n",
       "1          \\r\\nكتاب معجزة الذرة PDF\\r\\n   \n",
       "2            \\r\\nكتاب لا تتجاهل PDF\\r\\n   \n",
       "3  \\r\\nكتاب الحياة في سبيل الله PDF\\r\\n   \n",
       "4    \\r\\nكتاب العظمة في كل مكان PDF\\r\\n   \n",
       "\n",
       "                                              Author  \\\n",
       "0  \\r\\nكتب الكاتب هارون يحيى\\r\\nكتب الكاتب هارون ...   \n",
       "1  \\r\\nكتب الكاتب هارون يحيى\\r\\nكتب الكاتب هارون ...   \n",
       "2  \\r\\nكتب الكاتب هارون يحيى\\r\\nكتب الكاتب هارون ...   \n",
       "3  \\r\\nكتب الكاتب هارون يحيى\\r\\nكتب الكاتب هارون ...   \n",
       "4  \\r\\nكتب الكاتب هارون يحيى\\r\\nكتب الكاتب هارون ...   \n",
       "\n",
       "                                         BookSummary  \n",
       "0  [<p>الروايات والكتب العربية تعتبر من الروابط ب...  \n",
       "1  [<p>الروايات والكتب العربية تعتبر من الروابط ب...  \n",
       "2  [<p>الروايات والكتب العربية تعتبر من الروابط ب...  \n",
       "3  [<p>الروايات والكتب العربية تعتبر من الروابط ب...  \n",
       "4  [<p>الروايات والكتب العربية تعتبر من الروابط ب...  "
      ]
     },
     "execution_count": 30,
     "metadata": {},
     "output_type": "execute_result"
    }
   ],
   "source": [
    "data[[\"BookTitle\",\"Author\",\"BookSummary\"]].head()"
   ]
  },
  {
   "cell_type": "code",
   "execution_count": 31,
   "metadata": {},
   "outputs": [],
   "source": [
    "#cleaning our data from any thing except arabic letters\n",
    "pattern=\"[^ء-ي ]\"\n",
    "data[\"BookTitle\"].replace(pattern,' ', regex=True,inplace=True)\n",
    "data[\"Author\"].replace(pattern,' ', regex=True,inplace=True)\n",
    "data[\"Class\"].replace(pattern,' ', regex=True,inplace=True)\n",
    "data[\"BookSummary\"].replace(pattern,' ', regex=True,inplace=True)"
   ]
  },
  {
   "cell_type": "code",
   "execution_count": 32,
   "metadata": {},
   "outputs": [
    {
     "data": {
      "text/plain": [
       "'  كتاب التضحية عند الحيوان      '"
      ]
     },
     "execution_count": 32,
     "metadata": {},
     "output_type": "execute_result"
    }
   ],
   "source": [
    "data[\"BookTitle\"][0]"
   ]
  },
  {
   "cell_type": "code",
   "execution_count": 33,
   "metadata": {},
   "outputs": [
    {
     "data": {
      "text/plain": [
       "'كتاب التضحية عند الحيوان'"
      ]
     },
     "execution_count": 33,
     "metadata": {},
     "output_type": "execute_result"
    }
   ],
   "source": [
    "#handle the start and end spaces \n",
    "data[\"BookTitle\"]=data[\"BookTitle\"].apply(lambda title:title.strip())\n",
    "data[\"BookTitle\"][0]"
   ]
  },
  {
   "cell_type": "code",
   "execution_count": 34,
   "metadata": {},
   "outputs": [
    {
     "data": {
      "text/plain": [
       "'  كتب الكاتب هارون يحيى  كتب الكاتب هارون يحيى  '"
      ]
     },
     "execution_count": 34,
     "metadata": {},
     "output_type": "execute_result"
    }
   ],
   "source": [
    "data[\"Author\"][0]"
   ]
  },
  {
   "cell_type": "code",
   "execution_count": 35,
   "metadata": {},
   "outputs": [
    {
     "data": {
      "text/plain": [
       "'   تحميل كتب الأدب العربي  تحميل كتب متنوعة  '"
      ]
     },
     "execution_count": 35,
     "metadata": {},
     "output_type": "execute_result"
    }
   ],
   "source": [
    "data[\"Class\"][0]"
   ]
  },
  {
   "cell_type": "code",
   "execution_count": 36,
   "metadata": {},
   "outputs": [
    {
     "data": {
      "text/plain": [
       "'    الروايات والكتب العربية تعتبر من الروابط بيننا وبين تاريخنا كعرب او بيننا وبين اللغة العربية  وبين تاريخنا واحداث هذا التاريخ  الروايات العربية الي الان ومع تقدم العصور والتكنولوجيا لازالت قائمة وحاضرة         كتاب التضحية عند الحيوان للكاتب                                                                                                                                            هارون يحيى      تعتبر صفحات التضحية والتعاون والرحمة والمحبة والتكافل من الأخلاق الحسنة التي يسعى كل مجتمع لنشرها بين أفراده  وهذه الميزات تسبغ على الإنسان الذي يتحلى بها المحبة والاحترام في البيئة التي يعيش فيها  ولعل كل إنسان يسعى إلى أن يحيا وسط مجتمع تنتشر فيه هذه الفضائل        وفي هذا الكتاب وقع تناول هذه الخصال والفضائل بالدرس بيد أن الذي يتصف بالتضحية والإيثار هنا  والذي يقوم بأعمال التعاون والتكافل ويفيض شفقة ومحبة ورحمة ليس كائنا  بشريا   إن الذي نتناوله بالبحث هنا وتجتمع فيه جميع هذه الفضائل هو الحيوان  فثمة حيوانات تلقى نفسها إلى الهلاك والخطر في مواجهة أعدائها من أجل حماية حياة صغارها  وثمة طيور تعرض نفسها للخطر أيضا  من أجل حماية فراخها  وفي مناطق القطب المتجمد تمكث طيور البطريق لأشهر دون أكل ودون حركة حتى توفر الحرارة والدفء لفراخها  ونجد كذلك حيوانات تتحمل مسؤولية رعاية من انقطعت به السبل من صغار الحيوانات وبقي يتيما  بلا أم  ونجد من أمثال هذه النماذج الكثير الكثير   كتاب التضحية عند الحيوان             عدنان أوكطار المعروف باسم هارون يحيى هو كاتب وباحث تركي مسلم  ولد في أنقرة عام      م وعاش فيها حتى عام      م عندما انتقل لإسطنبول حيث التحق بكلية الفنون الجميلة في جامعة المعمار سنان  وخلال سنواته الجامعية  قام ببحوث مفصلة في الفلسفة المادية والايديولوجية السائدة التي تحيط به  قام بإنشاء مؤسسة البحث العلمي في تركيا  تركز كتاباته على تفنيد وتكذيب نظريات التطور والارتقاء والنشوء وبيان تناقضها حسب رأيه  كما يركز في كتاباته أيضا على موضوعات الماسونية والصهيونية والإلحاد        له أكثر من مئة كتاب حول قيم وأخلاقيات القرأن وحول مواضيع ايمانية عديدة ومختلفة وترجمت إلى العديد من اللغات العالمية واسمه القلمي هارون يحيى  ومن أشهر كتبه كتاب   أطلس الخلق   الذي يقع في     صفحة ويتحدث عن رفض نظرية النشوء والارتقاء لداروين  ومن أشهر مؤلفاته        أطلس الخلق        نهاية الدارونية        معجزة الذر ة        الإعجاز في خلق النباتات        خلق الكون        المفاهيم الأساسية في القرآن        هل فكرت في الحقيقة        الكوارث التي جلبتها الداروينية للإنسانية        معجزة النمل        معجزة النحل        معجزة الجهاز المناعي        استعمل عدنان أوكطار الاسم المستعار  جاويد يالجن  في بعض كتبه  ولكن القسم الأكبر منها نشره بالاسم المستعار هارون يحيى  وهذا الاسم المستعار  يتكون من اسمي نبيين في إشارة إلى ذكرى النبي هارون والنبي يحيى الل ذي ن حاربا أفكار الإلحاد         كتاب التضحية عند الحيوان                                                                ترون بأنفسكم نماذج من السلوك عند بعض الحيوانات يثير الاستغراب والدهشة ويبعث على التأمل  ذلك أنه سلوك ينطق بالحكمة والعقل ويبين عن وعي خارق وبعد نظر عميق        وعند قراءة هذه النماذج سوف يقفز إلى أذهانكم السؤال التالي  كيف يمكن لحيوان أن يعرف كل هذا  كيف يمكنه أن يفكر في كل هذا  وسوف تجدون الإجابة على هذه التساؤلات في الكتاب الذي بين أيديكم        إن الذي خلقها جميعها هو الله الرحمن الرحيم  وهو الذي يلهمها طريقها فتسير فيه طائعة  فكل ما في السماوات وما في الأرض طوع أمره سبحانه وتعالى          يمكنك أيضا قراءة وتحميل روايات عربي من خلال مكتبتكم                                       المكتبة العربية     مثل      '"
      ]
     },
     "execution_count": 36,
     "metadata": {},
     "output_type": "execute_result"
    }
   ],
   "source": [
    "data[\"BookSummary\"][0]"
   ]
  },
  {
   "cell_type": "code",
   "execution_count": 37,
   "metadata": {},
   "outputs": [],
   "source": [
    "#remove all this unimportant spaces \n",
    "space_patern=\"[ ]+\"\n",
    "data[\"BookSummary\"].replace(space_patern,' ', regex=True,inplace=True)"
   ]
  },
  {
   "cell_type": "code",
   "execution_count": 38,
   "metadata": {},
   "outputs": [
    {
     "data": {
      "text/plain": [
       "' الروايات والكتب العربية تعتبر من الروابط بيننا وبين تاريخنا كعرب او بيننا وبين اللغة العربية وبين تاريخنا واحداث هذا التاريخ الروايات العربية الي الان ومع تقدم العصور والتكنولوجيا لازالت قائمة وحاضرة كتاب التضحية عند الحيوان للكاتب هارون يحيى تعتبر صفحات التضحية والتعاون والرحمة والمحبة والتكافل من الأخلاق الحسنة التي يسعى كل مجتمع لنشرها بين أفراده وهذه الميزات تسبغ على الإنسان الذي يتحلى بها المحبة والاحترام في البيئة التي يعيش فيها ولعل كل إنسان يسعى إلى أن يحيا وسط مجتمع تنتشر فيه هذه الفضائل وفي هذا الكتاب وقع تناول هذه الخصال والفضائل بالدرس بيد أن الذي يتصف بالتضحية والإيثار هنا والذي يقوم بأعمال التعاون والتكافل ويفيض شفقة ومحبة ورحمة ليس كائنا بشريا إن الذي نتناوله بالبحث هنا وتجتمع فيه جميع هذه الفضائل هو الحيوان فثمة حيوانات تلقى نفسها إلى الهلاك والخطر في مواجهة أعدائها من أجل حماية حياة صغارها وثمة طيور تعرض نفسها للخطر أيضا من أجل حماية فراخها وفي مناطق القطب المتجمد تمكث طيور البطريق لأشهر دون أكل ودون حركة حتى توفر الحرارة والدفء لفراخها ونجد كذلك حيوانات تتحمل مسؤولية رعاية من انقطعت به السبل من صغار الحيوانات وبقي يتيما بلا أم ونجد من أمثال هذه النماذج الكثير الكثير كتاب التضحية عند الحيوان عدنان أوكطار المعروف باسم هارون يحيى هو كاتب وباحث تركي مسلم ولد في أنقرة عام م وعاش فيها حتى عام م عندما انتقل لإسطنبول حيث التحق بكلية الفنون الجميلة في جامعة المعمار سنان وخلال سنواته الجامعية قام ببحوث مفصلة في الفلسفة المادية والايديولوجية السائدة التي تحيط به قام بإنشاء مؤسسة البحث العلمي في تركيا تركز كتاباته على تفنيد وتكذيب نظريات التطور والارتقاء والنشوء وبيان تناقضها حسب رأيه كما يركز في كتاباته أيضا على موضوعات الماسونية والصهيونية والإلحاد له أكثر من مئة كتاب حول قيم وأخلاقيات القرأن وحول مواضيع ايمانية عديدة ومختلفة وترجمت إلى العديد من اللغات العالمية واسمه القلمي هارون يحيى ومن أشهر كتبه كتاب أطلس الخلق الذي يقع في صفحة ويتحدث عن رفض نظرية النشوء والارتقاء لداروين ومن أشهر مؤلفاته أطلس الخلق نهاية الدارونية معجزة الذر ة الإعجاز في خلق النباتات خلق الكون المفاهيم الأساسية في القرآن هل فكرت في الحقيقة الكوارث التي جلبتها الداروينية للإنسانية معجزة النمل معجزة النحل معجزة الجهاز المناعي استعمل عدنان أوكطار الاسم المستعار جاويد يالجن في بعض كتبه ولكن القسم الأكبر منها نشره بالاسم المستعار هارون يحيى وهذا الاسم المستعار يتكون من اسمي نبيين في إشارة إلى ذكرى النبي هارون والنبي يحيى الل ذي ن حاربا أفكار الإلحاد كتاب التضحية عند الحيوان ترون بأنفسكم نماذج من السلوك عند بعض الحيوانات يثير الاستغراب والدهشة ويبعث على التأمل ذلك أنه سلوك ينطق بالحكمة والعقل ويبين عن وعي خارق وبعد نظر عميق وعند قراءة هذه النماذج سوف يقفز إلى أذهانكم السؤال التالي كيف يمكن لحيوان أن يعرف كل هذا كيف يمكنه أن يفكر في كل هذا وسوف تجدون الإجابة على هذه التساؤلات في الكتاب الذي بين أيديكم إن الذي خلقها جميعها هو الله الرحمن الرحيم وهو الذي يلهمها طريقها فتسير فيه طائعة فكل ما في السماوات وما في الأرض طوع أمره سبحانه وتعالى يمكنك أيضا قراءة وتحميل روايات عربي من خلال مكتبتكم المكتبة العربية مثل '"
      ]
     },
     "execution_count": 38,
     "metadata": {},
     "output_type": "execute_result"
    }
   ],
   "source": [
    "data[\"BookSummary\"][0]"
   ]
  },
  {
   "cell_type": "code",
   "execution_count": 39,
   "metadata": {},
   "outputs": [],
   "source": [
    "#remove redundant words unusefal \n",
    "data[\"BookTitle\"].replace(r\"كتاب\",\"\",regex=True,inplace=True)\n",
    "data[\"Author\"].replace(r\"الكاتب\",\"\",regex=True,inplace=True)\n",
    "data[\"Class\"].replace(r\"كتب\",\"\",regex=True,inplace=True)"
   ]
  },
  {
   "cell_type": "code",
   "execution_count": 40,
   "metadata": {},
   "outputs": [
    {
     "data": {
      "text/html": [
       "<div>\n",
       "<style scoped>\n",
       "    .dataframe tbody tr th:only-of-type {\n",
       "        vertical-align: middle;\n",
       "    }\n",
       "\n",
       "    .dataframe tbody tr th {\n",
       "        vertical-align: top;\n",
       "    }\n",
       "\n",
       "    .dataframe thead th {\n",
       "        text-align: right;\n",
       "    }\n",
       "</style>\n",
       "<table border=\"1\" class=\"dataframe\">\n",
       "  <thead>\n",
       "    <tr style=\"text-align: right;\">\n",
       "      <th></th>\n",
       "      <th>BookTitle</th>\n",
       "      <th>Author</th>\n",
       "      <th>BookSummary</th>\n",
       "      <th>Class</th>\n",
       "    </tr>\n",
       "  </thead>\n",
       "  <tbody>\n",
       "    <tr>\n",
       "      <th>0</th>\n",
       "      <td>التضحية عند الحيوان</td>\n",
       "      <td>كتب  هارون يحيى  كتب  هارون يحيى</td>\n",
       "      <td>الروايات والكتب العربية تعتبر من الروابط بينن...</td>\n",
       "      <td>تحميل  الأدب العربي  تحميل  متنوعة</td>\n",
       "    </tr>\n",
       "    <tr>\n",
       "      <th>1</th>\n",
       "      <td>معجزة الذرة</td>\n",
       "      <td>كتب  هارون يحيى  كتب  هارون يحيى</td>\n",
       "      <td>الروايات والكتب العربية تعتبر من الروابط بينن...</td>\n",
       "      <td>تحميل  تطوير الذات  تحميل  متنوعة</td>\n",
       "    </tr>\n",
       "    <tr>\n",
       "      <th>2</th>\n",
       "      <td>لا تتجاهل</td>\n",
       "      <td>كتب  هارون يحيى  كتب  هارون يحيى</td>\n",
       "      <td>الروايات والكتب العربية تعتبر من الروابط بينن...</td>\n",
       "      <td>تحميل  الأدب العربي</td>\n",
       "    </tr>\n",
       "    <tr>\n",
       "      <th>3</th>\n",
       "      <td>الحياة في سبيل الله</td>\n",
       "      <td>كتب  هارون يحيى  كتب  هارون يحيى</td>\n",
       "      <td>الروايات والكتب العربية تعتبر من الروابط بينن...</td>\n",
       "      <td>تحميل  اسلامية</td>\n",
       "    </tr>\n",
       "    <tr>\n",
       "      <th>4</th>\n",
       "      <td>العظمة في كل مكان</td>\n",
       "      <td>كتب  هارون يحيى  كتب  هارون يحيى</td>\n",
       "      <td>الروايات والكتب العربية تعتبر من الروابط بينن...</td>\n",
       "      <td>تحميل  الأدب العربي</td>\n",
       "    </tr>\n",
       "  </tbody>\n",
       "</table>\n",
       "</div>"
      ],
      "text/plain": [
       "              BookTitle                                Author  \\\n",
       "0   التضحية عند الحيوان    كتب  هارون يحيى  كتب  هارون يحيى     \n",
       "1           معجزة الذرة    كتب  هارون يحيى  كتب  هارون يحيى     \n",
       "2             لا تتجاهل    كتب  هارون يحيى  كتب  هارون يحيى     \n",
       "3   الحياة في سبيل الله    كتب  هارون يحيى  كتب  هارون يحيى     \n",
       "4     العظمة في كل مكان    كتب  هارون يحيى  كتب  هارون يحيى     \n",
       "\n",
       "                                         BookSummary  \\\n",
       "0   الروايات والكتب العربية تعتبر من الروابط بينن...   \n",
       "1   الروايات والكتب العربية تعتبر من الروابط بينن...   \n",
       "2   الروايات والكتب العربية تعتبر من الروابط بينن...   \n",
       "3   الروايات والكتب العربية تعتبر من الروابط بينن...   \n",
       "4   الروايات والكتب العربية تعتبر من الروابط بينن...   \n",
       "\n",
       "                                     Class  \n",
       "0     تحميل  الأدب العربي  تحميل  متنوعة    \n",
       "1      تحميل  تطوير الذات  تحميل  متنوعة    \n",
       "2                    تحميل  الأدب العربي    \n",
       "3                         تحميل  اسلامية    \n",
       "4                    تحميل  الأدب العربي    "
      ]
     },
     "execution_count": 40,
     "metadata": {},
     "output_type": "execute_result"
    }
   ],
   "source": [
    "data[[\"BookTitle\",\"Author\",\"BookSummary\",\"Class\"]].head()"
   ]
  },
  {
   "cell_type": "code",
   "execution_count": 41,
   "metadata": {},
   "outputs": [],
   "source": [
    "#cleaning from redundant words unusefal \n",
    "data[\"Class\"]=data[\"Class\"].apply(lambda text:text.replace(\"تحميل\",\"\",1))\n",
    "data[\"Author\"]=data[\"Author\"].apply(lambda text:text.replace(\"كتب\",\"\",1))\n",
    "#split Classes into multiclass & split Authers too\n",
    "data[\"Class\"]=data[\"Class\"].apply(lambda row:row.split(\"تحميل\"))\n",
    "data[\"Author\"]=data[\"Author\"].apply(lambda row:row.split(\"كتب\"))"
   ]
  },
  {
   "cell_type": "code",
   "execution_count": 42,
   "metadata": {},
   "outputs": [
    {
     "data": {
      "text/html": [
       "<div>\n",
       "<style scoped>\n",
       "    .dataframe tbody tr th:only-of-type {\n",
       "        vertical-align: middle;\n",
       "    }\n",
       "\n",
       "    .dataframe tbody tr th {\n",
       "        vertical-align: top;\n",
       "    }\n",
       "\n",
       "    .dataframe thead th {\n",
       "        text-align: right;\n",
       "    }\n",
       "</style>\n",
       "<table border=\"1\" class=\"dataframe\">\n",
       "  <thead>\n",
       "    <tr style=\"text-align: right;\">\n",
       "      <th></th>\n",
       "      <th>BookTitle</th>\n",
       "      <th>Author</th>\n",
       "      <th>BookSummary</th>\n",
       "      <th>Class</th>\n",
       "    </tr>\n",
       "  </thead>\n",
       "  <tbody>\n",
       "    <tr>\n",
       "      <th>0</th>\n",
       "      <td>التضحية عند الحيوان</td>\n",
       "      <td>[    هارون يحيى  ,   هارون يحيى  ]</td>\n",
       "      <td>الروايات والكتب العربية تعتبر من الروابط بينن...</td>\n",
       "      <td>[     الأدب العربي  ,   متنوعة  ]</td>\n",
       "    </tr>\n",
       "    <tr>\n",
       "      <th>1</th>\n",
       "      <td>معجزة الذرة</td>\n",
       "      <td>[    هارون يحيى  ,   هارون يحيى  ]</td>\n",
       "      <td>الروايات والكتب العربية تعتبر من الروابط بينن...</td>\n",
       "      <td>[     تطوير الذات  ,   متنوعة  ]</td>\n",
       "    </tr>\n",
       "    <tr>\n",
       "      <th>2</th>\n",
       "      <td>لا تتجاهل</td>\n",
       "      <td>[    هارون يحيى  ,   هارون يحيى  ]</td>\n",
       "      <td>الروايات والكتب العربية تعتبر من الروابط بينن...</td>\n",
       "      <td>[     الأدب العربي  ]</td>\n",
       "    </tr>\n",
       "    <tr>\n",
       "      <th>3</th>\n",
       "      <td>الحياة في سبيل الله</td>\n",
       "      <td>[    هارون يحيى  ,   هارون يحيى  ]</td>\n",
       "      <td>الروايات والكتب العربية تعتبر من الروابط بينن...</td>\n",
       "      <td>[     اسلامية  ]</td>\n",
       "    </tr>\n",
       "    <tr>\n",
       "      <th>4</th>\n",
       "      <td>العظمة في كل مكان</td>\n",
       "      <td>[    هارون يحيى  ,   هارون يحيى  ]</td>\n",
       "      <td>الروايات والكتب العربية تعتبر من الروابط بينن...</td>\n",
       "      <td>[     الأدب العربي  ]</td>\n",
       "    </tr>\n",
       "  </tbody>\n",
       "</table>\n",
       "</div>"
      ],
      "text/plain": [
       "              BookTitle                              Author  \\\n",
       "0   التضحية عند الحيوان  [    هارون يحيى  ,   هارون يحيى  ]   \n",
       "1           معجزة الذرة  [    هارون يحيى  ,   هارون يحيى  ]   \n",
       "2             لا تتجاهل  [    هارون يحيى  ,   هارون يحيى  ]   \n",
       "3   الحياة في سبيل الله  [    هارون يحيى  ,   هارون يحيى  ]   \n",
       "4     العظمة في كل مكان  [    هارون يحيى  ,   هارون يحيى  ]   \n",
       "\n",
       "                                         BookSummary  \\\n",
       "0   الروايات والكتب العربية تعتبر من الروابط بينن...   \n",
       "1   الروايات والكتب العربية تعتبر من الروابط بينن...   \n",
       "2   الروايات والكتب العربية تعتبر من الروابط بينن...   \n",
       "3   الروايات والكتب العربية تعتبر من الروابط بينن...   \n",
       "4   الروايات والكتب العربية تعتبر من الروابط بينن...   \n",
       "\n",
       "                               Class  \n",
       "0  [     الأدب العربي  ,   متنوعة  ]  \n",
       "1   [     تطوير الذات  ,   متنوعة  ]  \n",
       "2              [     الأدب العربي  ]  \n",
       "3                   [     اسلامية  ]  \n",
       "4              [     الأدب العربي  ]  "
      ]
     },
     "execution_count": 42,
     "metadata": {},
     "output_type": "execute_result"
    }
   ],
   "source": [
    "data[[\"BookTitle\",\"Author\",\"BookSummary\",\"Class\"]].head()"
   ]
  },
  {
   "cell_type": "code",
   "execution_count": 43,
   "metadata": {},
   "outputs": [
    {
     "data": {
      "text/plain": [
       "['    هارون يحيى  ', '  هارون يحيى  ']"
      ]
     },
     "execution_count": 43,
     "metadata": {},
     "output_type": "execute_result"
    }
   ],
   "source": [
    "data[\"Author\"][0]"
   ]
  },
  {
   "cell_type": "code",
   "execution_count": 44,
   "metadata": {},
   "outputs": [
    {
     "data": {
      "text/plain": [
       "['هارون يحيى', 'هارون يحيى']"
      ]
     },
     "execution_count": 44,
     "metadata": {},
     "output_type": "execute_result"
    }
   ],
   "source": [
    "#handle the start and end spaces \n",
    "data[\"Author\"]=data[\"Author\"].apply(lambda Authorlist:[Author.strip() for Author in Authorlist])\n",
    "data[\"Author\"][0]"
   ]
  },
  {
   "cell_type": "code",
   "execution_count": 45,
   "metadata": {},
   "outputs": [
    {
     "data": {
      "text/plain": [
       "['     الأدب العربي  ', '  متنوعة  ']"
      ]
     },
     "execution_count": 45,
     "metadata": {},
     "output_type": "execute_result"
    }
   ],
   "source": [
    "data[\"Class\"][0]"
   ]
  },
  {
   "cell_type": "code",
   "execution_count": 46,
   "metadata": {},
   "outputs": [
    {
     "data": {
      "text/plain": [
       "['الأدب العربي', 'متنوعة']"
      ]
     },
     "execution_count": 46,
     "metadata": {},
     "output_type": "execute_result"
    }
   ],
   "source": [
    "#handle the start and end spaces \n",
    "data[\"Class\"]= data[\"Class\"].apply(lambda classlist:[myclass.strip() for myclass in classlist])\n",
    "data[\"Class\"][0]"
   ]
  },
  {
   "cell_type": "code",
   "execution_count": 47,
   "metadata": {},
   "outputs": [],
   "source": [
    "#delete all dublicated values\n",
    "data[\"Author\"]=data[\"Author\"].apply(lambda Authorlist:list(set(Authorlist)))\n",
    "data[\"Class\"] = data[\"Class\"].apply(lambda classlist: (list(set(classlist))))"
   ]
  },
  {
   "cell_type": "code",
   "execution_count": 48,
   "metadata": {},
   "outputs": [
    {
     "data": {
      "text/html": [
       "<div>\n",
       "<style scoped>\n",
       "    .dataframe tbody tr th:only-of-type {\n",
       "        vertical-align: middle;\n",
       "    }\n",
       "\n",
       "    .dataframe tbody tr th {\n",
       "        vertical-align: top;\n",
       "    }\n",
       "\n",
       "    .dataframe thead th {\n",
       "        text-align: right;\n",
       "    }\n",
       "</style>\n",
       "<table border=\"1\" class=\"dataframe\">\n",
       "  <thead>\n",
       "    <tr style=\"text-align: right;\">\n",
       "      <th></th>\n",
       "      <th>BookTitle</th>\n",
       "      <th>Author</th>\n",
       "      <th>BookSummary</th>\n",
       "      <th>Class</th>\n",
       "      <th>Language</th>\n",
       "      <th>Pages</th>\n",
       "      <th>publisher</th>\n",
       "      <th>BookSize</th>\n",
       "      <th>format</th>\n",
       "      <th>DownloadURL</th>\n",
       "      <th>PageURL</th>\n",
       "    </tr>\n",
       "  </thead>\n",
       "  <tbody>\n",
       "    <tr>\n",
       "      <th>0</th>\n",
       "      <td>التضحية عند الحيوان</td>\n",
       "      <td>[هارون يحيى]</td>\n",
       "      <td>الروايات والكتب العربية تعتبر من الروابط بينن...</td>\n",
       "      <td>[الأدب العربي, متنوعة]</td>\n",
       "      <td>عربي</td>\n",
       "      <td>160 صفحة</td>\n",
       "      <td>عدنان أوكطار</td>\n",
       "      <td>5 ميغابايت</td>\n",
       "      <td>pdf</td>\n",
       "      <td>https://www.arab-books.com/books/%d9%83%d8%aa%...</td>\n",
       "      <td>https://www.arab-books.com/books/%d9%83%d8%aa%...</td>\n",
       "    </tr>\n",
       "    <tr>\n",
       "      <th>1</th>\n",
       "      <td>معجزة الذرة</td>\n",
       "      <td>[هارون يحيى]</td>\n",
       "      <td>الروايات والكتب العربية تعتبر من الروابط بينن...</td>\n",
       "      <td>[متنوعة, تطوير الذات]</td>\n",
       "      <td>عربي</td>\n",
       "      <td>136 صفحة</td>\n",
       "      <td>عدنان أوكطار</td>\n",
       "      <td>3.41 ميغابايت</td>\n",
       "      <td>pdf</td>\n",
       "      <td>https://www.arab-books.com/books/%d9%83%d8%aa%...</td>\n",
       "      <td>https://www.arab-books.com/books/%d9%83%d8%aa%...</td>\n",
       "    </tr>\n",
       "    <tr>\n",
       "      <th>2</th>\n",
       "      <td>لا تتجاهل</td>\n",
       "      <td>[هارون يحيى]</td>\n",
       "      <td>الروايات والكتب العربية تعتبر من الروابط بينن...</td>\n",
       "      <td>[الأدب العربي]</td>\n",
       "      <td>عربي</td>\n",
       "      <td>100 صفحة</td>\n",
       "      <td>عدنان أوكطار</td>\n",
       "      <td>3 ميغابايت</td>\n",
       "      <td>pdf</td>\n",
       "      <td>https://www.arab-books.com/books/%d9%83%d8%aa%...</td>\n",
       "      <td>https://www.arab-books.com/books/%d9%83%d8%aa%...</td>\n",
       "    </tr>\n",
       "  </tbody>\n",
       "</table>\n",
       "</div>"
      ],
      "text/plain": [
       "              BookTitle        Author  \\\n",
       "0   التضحية عند الحيوان  [هارون يحيى]   \n",
       "1           معجزة الذرة  [هارون يحيى]   \n",
       "2             لا تتجاهل  [هارون يحيى]   \n",
       "\n",
       "                                         BookSummary                   Class  \\\n",
       "0   الروايات والكتب العربية تعتبر من الروابط بينن...  [الأدب العربي, متنوعة]   \n",
       "1   الروايات والكتب العربية تعتبر من الروابط بينن...   [متنوعة, تطوير الذات]   \n",
       "2   الروايات والكتب العربية تعتبر من الروابط بينن...          [الأدب العربي]   \n",
       "\n",
       "  Language      Pages      publisher        BookSize format  \\\n",
       "0     عربي   160 صفحة   عدنان أوكطار      5 ميغابايت    pdf   \n",
       "1     عربي   136 صفحة   عدنان أوكطار   3.41 ميغابايت    pdf   \n",
       "2     عربي   100 صفحة   عدنان أوكطار      3 ميغابايت    pdf   \n",
       "\n",
       "                                         DownloadURL  \\\n",
       "0  https://www.arab-books.com/books/%d9%83%d8%aa%...   \n",
       "1  https://www.arab-books.com/books/%d9%83%d8%aa%...   \n",
       "2  https://www.arab-books.com/books/%d9%83%d8%aa%...   \n",
       "\n",
       "                                             PageURL  \n",
       "0  https://www.arab-books.com/books/%d9%83%d8%aa%...  \n",
       "1  https://www.arab-books.com/books/%d9%83%d8%aa%...  \n",
       "2  https://www.arab-books.com/books/%d9%83%d8%aa%...  "
      ]
     },
     "execution_count": 48,
     "metadata": {},
     "output_type": "execute_result"
    }
   ],
   "source": [
    "data.head(3)"
   ]
  },
  {
   "cell_type": "code",
   "execution_count": 49,
   "metadata": {},
   "outputs": [
    {
     "data": {
      "text/plain": [
       "array([' pdf', ' ', ' excel', ' word', ' PDF', ' 15.11', ' Pdf', ' حيب',\n",
       "       ' P', ' PDF ZIP', ' PDf'], dtype=object)"
      ]
     },
     "execution_count": 49,
     "metadata": {},
     "output_type": "execute_result"
    }
   ],
   "source": [
    "data[\"format\"].unique()"
   ]
  },
  {
   "cell_type": "code",
   "execution_count": 50,
   "metadata": {},
   "outputs": [
    {
     "data": {
      "text/html": [
       "<div>\n",
       "<style scoped>\n",
       "    .dataframe tbody tr th:only-of-type {\n",
       "        vertical-align: middle;\n",
       "    }\n",
       "\n",
       "    .dataframe tbody tr th {\n",
       "        vertical-align: top;\n",
       "    }\n",
       "\n",
       "    .dataframe thead th {\n",
       "        text-align: right;\n",
       "    }\n",
       "</style>\n",
       "<table border=\"1\" class=\"dataframe\">\n",
       "  <thead>\n",
       "    <tr style=\"text-align: right;\">\n",
       "      <th></th>\n",
       "      <th>BookTitle</th>\n",
       "      <th>Author</th>\n",
       "      <th>BookSummary</th>\n",
       "      <th>Class</th>\n",
       "      <th>Language</th>\n",
       "      <th>Pages</th>\n",
       "      <th>publisher</th>\n",
       "      <th>BookSize</th>\n",
       "      <th>format</th>\n",
       "      <th>DownloadURL</th>\n",
       "      <th>PageURL</th>\n",
       "    </tr>\n",
       "  </thead>\n",
       "  <tbody>\n",
       "    <tr>\n",
       "      <th>3936</th>\n",
       "      <td>أحكام الأضحية والزكاة</td>\n",
       "      <td>[الشيخ محمد بن صالح العثيمين]</td>\n",
       "      <td>كتاب زاد الداعية إلى الله للشيخ العلامة محمد ...</td>\n",
       "      <td>[العقيدة]</td>\n",
       "      <td>العربية</td>\n",
       "      <td>34 صفحة</td>\n",
       "      <td>دار الثريا</td>\n",
       "      <td>15.11 ميغابايت</td>\n",
       "      <td>15.11</td>\n",
       "      <td>https://www.arab-books.com/books/%d9%83%d8%aa%...</td>\n",
       "      <td>https://www.arab-books.com/books/%d9%83%d8%aa%...</td>\n",
       "    </tr>\n",
       "  </tbody>\n",
       "</table>\n",
       "</div>"
      ],
      "text/plain": [
       "                   BookTitle                         Author  \\\n",
       "3936   أحكام الأضحية والزكاة  [الشيخ محمد بن صالح العثيمين]   \n",
       "\n",
       "                                            BookSummary      Class  Language  \\\n",
       "3936   كتاب زاد الداعية إلى الله للشيخ العلامة محمد ...  [العقيدة]   العربية   \n",
       "\n",
       "         Pages    publisher         BookSize  format  \\\n",
       "3936   34 صفحة   دار الثريا   15.11 ميغابايت   15.11   \n",
       "\n",
       "                                            DownloadURL  \\\n",
       "3936  https://www.arab-books.com/books/%d9%83%d8%aa%...   \n",
       "\n",
       "                                                PageURL  \n",
       "3936  https://www.arab-books.com/books/%d9%83%d8%aa%...  "
      ]
     },
     "execution_count": 50,
     "metadata": {},
     "output_type": "execute_result"
    }
   ],
   "source": [
    "data[data[\"format\"]==' 15.11']"
   ]
  },
  {
   "cell_type": "code",
   "execution_count": 51,
   "metadata": {},
   "outputs": [],
   "source": [
    "#cleaning\n",
    "PDF=[\" pdf\",\" PDF\",\" Pdf\",\" P\",\" PDF ZIP\",\" PDf\",\" حيب\",\" \",\" 15.11\"]\n",
    "data[\"format\"].replace(PDF,\"PDF\",inplace=True)"
   ]
  },
  {
   "cell_type": "code",
   "execution_count": 52,
   "metadata": {},
   "outputs": [
    {
     "data": {
      "text/plain": [
       "array(['PDF', ' excel', ' word'], dtype=object)"
      ]
     },
     "execution_count": 52,
     "metadata": {},
     "output_type": "execute_result"
    }
   ],
   "source": [
    "data[\"format\"].unique()"
   ]
  },
  {
   "cell_type": "code",
   "execution_count": 53,
   "metadata": {},
   "outputs": [
    {
     "data": {
      "text/plain": [
       "array([' عربي', ' ', ' إنجليزي', ' العربية', ' العربيه', ' العريبة',\n",
       "       ' اللغة العربية', ' الإنجليزية', ' English', ' الانجليزية',\n",
       "       ' الألمانية', ' عربية - المانية', ' العربية - الألمانية',\n",
       "       ' العربية - الالمانية', ' اللعة العربية', ' اللغه العربية',\n",
       "       ' اللغه العربيه', ' العرببة', ' العريبية', ' الللغة العربية',\n",
       "       ' العربيىة'], dtype=object)"
      ]
     },
     "execution_count": 53,
     "metadata": {},
     "output_type": "execute_result"
    }
   ],
   "source": [
    "data[\"Language\"].unique()"
   ]
  },
  {
   "cell_type": "code",
   "execution_count": 54,
   "metadata": {},
   "outputs": [],
   "source": [
    "Arabic=[' عربي', ' ', ' العربية', ' العربيه', ' العريبة',' اللغة العربية',' عربية - المانية', ' العربية - الألمانية',' العربية - الالمانية', ' اللعة العربية', ' اللغه العربية',' اللغه العربيه', ' العرببة', ' العريبية', ' الللغة العربية',' العربيىة']\n",
    "English=[' إنجليزي', ' الإنجليزية', ' English',' الانجليزية']\n",
    "German=' الألمانية'"
   ]
  },
  {
   "cell_type": "code",
   "execution_count": 55,
   "metadata": {},
   "outputs": [
    {
     "data": {
      "text/plain": [
       "array(['اللغة العربية', 'اللغة الانجليزية', 'اللغة الألمانية'],\n",
       "      dtype=object)"
      ]
     },
     "execution_count": 55,
     "metadata": {},
     "output_type": "execute_result"
    }
   ],
   "source": [
    "#cleaning\n",
    "data[\"Language\"].replace(Arabic,\"اللغة العربية\",inplace=True)\n",
    "data[\"Language\"].replace(English,\"اللغة الانجليزية\",inplace=True)\n",
    "data[\"Language\"].replace(German,\"اللغة الألمانية\",inplace=True)\n",
    "data[\"Language\"].unique()"
   ]
  },
  {
   "cell_type": "code",
   "execution_count": 56,
   "metadata": {},
   "outputs": [
    {
     "data": {
      "text/html": [
       "<div>\n",
       "<style scoped>\n",
       "    .dataframe tbody tr th:only-of-type {\n",
       "        vertical-align: middle;\n",
       "    }\n",
       "\n",
       "    .dataframe tbody tr th {\n",
       "        vertical-align: top;\n",
       "    }\n",
       "\n",
       "    .dataframe thead th {\n",
       "        text-align: right;\n",
       "    }\n",
       "</style>\n",
       "<table border=\"1\" class=\"dataframe\">\n",
       "  <thead>\n",
       "    <tr style=\"text-align: right;\">\n",
       "      <th></th>\n",
       "      <th>BookTitle</th>\n",
       "      <th>Author</th>\n",
       "      <th>BookSummary</th>\n",
       "      <th>Class</th>\n",
       "    </tr>\n",
       "  </thead>\n",
       "  <tbody>\n",
       "    <tr>\n",
       "      <th>0</th>\n",
       "      <td>التضحية عند الحيوان</td>\n",
       "      <td>[هارون يحيى]</td>\n",
       "      <td>الروايات والكتب العربية تعتبر من الروابط بينن...</td>\n",
       "      <td>[الأدب العربي, متنوعة]</td>\n",
       "    </tr>\n",
       "    <tr>\n",
       "      <th>1</th>\n",
       "      <td>معجزة الذرة</td>\n",
       "      <td>[هارون يحيى]</td>\n",
       "      <td>الروايات والكتب العربية تعتبر من الروابط بينن...</td>\n",
       "      <td>[متنوعة, تطوير الذات]</td>\n",
       "    </tr>\n",
       "    <tr>\n",
       "      <th>2</th>\n",
       "      <td>لا تتجاهل</td>\n",
       "      <td>[هارون يحيى]</td>\n",
       "      <td>الروايات والكتب العربية تعتبر من الروابط بينن...</td>\n",
       "      <td>[الأدب العربي]</td>\n",
       "    </tr>\n",
       "    <tr>\n",
       "      <th>3</th>\n",
       "      <td>الحياة في سبيل الله</td>\n",
       "      <td>[هارون يحيى]</td>\n",
       "      <td>الروايات والكتب العربية تعتبر من الروابط بينن...</td>\n",
       "      <td>[اسلامية]</td>\n",
       "    </tr>\n",
       "    <tr>\n",
       "      <th>4</th>\n",
       "      <td>العظمة في كل مكان</td>\n",
       "      <td>[هارون يحيى]</td>\n",
       "      <td>الروايات والكتب العربية تعتبر من الروابط بينن...</td>\n",
       "      <td>[الأدب العربي]</td>\n",
       "    </tr>\n",
       "  </tbody>\n",
       "</table>\n",
       "</div>"
      ],
      "text/plain": [
       "              BookTitle        Author  \\\n",
       "0   التضحية عند الحيوان  [هارون يحيى]   \n",
       "1           معجزة الذرة  [هارون يحيى]   \n",
       "2             لا تتجاهل  [هارون يحيى]   \n",
       "3   الحياة في سبيل الله  [هارون يحيى]   \n",
       "4     العظمة في كل مكان  [هارون يحيى]   \n",
       "\n",
       "                                         BookSummary                   Class  \n",
       "0   الروايات والكتب العربية تعتبر من الروابط بينن...  [الأدب العربي, متنوعة]  \n",
       "1   الروايات والكتب العربية تعتبر من الروابط بينن...   [متنوعة, تطوير الذات]  \n",
       "2   الروايات والكتب العربية تعتبر من الروابط بينن...          [الأدب العربي]  \n",
       "3   الروايات والكتب العربية تعتبر من الروابط بينن...               [اسلامية]  \n",
       "4   الروايات والكتب العربية تعتبر من الروابط بينن...          [الأدب العربي]  "
      ]
     },
     "execution_count": 56,
     "metadata": {},
     "output_type": "execute_result"
    }
   ],
   "source": [
    "data[[\"BookTitle\",\"Author\",\"BookSummary\",\"Class\"]].head()"
   ]
  },
  {
   "cell_type": "code",
   "execution_count": 63,
   "metadata": {},
   "outputs": [
    {
     "data": {
      "text/plain": [
       "[['محمود سالم'],\n",
       " ['محمود سالم'],\n",
       " ['محمود سالم'],\n",
       " ['هارون يحيى'],\n",
       " ['هارون يحيى']]"
      ]
     },
     "execution_count": 63,
     "metadata": {},
     "output_type": "execute_result"
    }
   ],
   "source": [
    "Authors=[]\n",
    "for Author in data[\"Author\"]:\n",
    "    if len(Author)==1:\n",
    "        Authors.append(Author)\n",
    "Authors[10:15]"
   ]
  },
  {
   "cell_type": "code",
   "execution_count": 64,
   "metadata": {},
   "outputs": [
    {
     "data": {
      "text/plain": [
       "[['', 'الدكتور سليم حسن'],\n",
       " ['', 'الدكتور سليم حسن'],\n",
       " ['', 'الدكتور سليم حسن'],\n",
       " ['', 'الدكتور سليم حسن'],\n",
       " ['', 'الدكتور سليم حسن']]"
      ]
     },
     "execution_count": 64,
     "metadata": {},
     "output_type": "execute_result"
    }
   ],
   "source": [
    "Authors=[]\n",
    "for Author in data[\"Author\"]:\n",
    "    if len(Author)>1:\n",
    "        Authors.append(Author)\n",
    "Authors[10:15]"
   ]
  },
  {
   "cell_type": "code",
   "execution_count": 65,
   "metadata": {},
   "outputs": [],
   "source": [
    "#cleaning the column from fake values\n",
    "data[\"Author\"]= data[\"Author\"].apply(lambda x:[item for item in x if item not in ['']])"
   ]
  },
  {
   "cell_type": "code",
   "execution_count": 66,
   "metadata": {},
   "outputs": [
    {
     "data": {
      "text/plain": [
       "[['كوثر محمود عبد الرسول', 'محمد رياض'],\n",
       " ['ابن جزي الكلبي', 'ابن بطوطة'],\n",
       " ['جايا جرانت', 'أندرو جرانت'],\n",
       " ['تشستر إلتون', 'أدريان جوستيك'],\n",
       " ['بيتر سي كايرو', 'ديفيد إل دوتليتش', 'ستيفن إتش راينسميث']]"
      ]
     },
     "execution_count": 66,
     "metadata": {},
     "output_type": "execute_result"
    }
   ],
   "source": [
    "Authors=[]\n",
    "for Author in data[\"Author\"]:\n",
    "    if len(Author)>1:\n",
    "        Authors.append(Author)\n",
    "Authors[10:15]"
   ]
  },
  {
   "cell_type": "code",
   "execution_count": 69,
   "metadata": {},
   "outputs": [
    {
     "data": {
      "text/plain": [
       "[['الأدب العربي'], ['اسلامية'], ['الفلسفة والمنطق'], ['اسلامية'], ['اسلامية']]"
      ]
     },
     "execution_count": 69,
     "metadata": {},
     "output_type": "execute_result"
    }
   ],
   "source": [
    "classs=[]\n",
    "for bookclass in data[\"Class\"]:\n",
    "    if len(bookclass)==1:\n",
    "        classs.append(bookclass)\n",
    "classs[10:15]"
   ]
  },
  {
   "cell_type": "code",
   "execution_count": 74,
   "metadata": {
    "scrolled": true
   },
   "outputs": [
    {
     "data": {
      "text/plain": [
       "[['الأدب العربي', 'روايات عربية', 'الروايات العالمية المترجمة'],\n",
       " ['الأدب العربي', 'روايات عربية', 'الروايات العالمية المترجمة'],\n",
       " ['الأدب العربي', 'روايات عربية', 'الروايات العالمية المترجمة'],\n",
       " ['الأدب العربي', 'روايات عربية', 'الروايات العالمية المترجمة'],\n",
       " ['الأدب العربي', 'روايات عربية', 'الروايات العالمية المترجمة']]"
      ]
     },
     "execution_count": 74,
     "metadata": {},
     "output_type": "execute_result"
    }
   ],
   "source": [
    "classs=[]\n",
    "for bookclass in data[\"Class\"]:\n",
    "    if len(bookclass)>1:\n",
    "        classs.append(bookclass)\n",
    "classs[150:155]"
   ]
  },
  {
   "cell_type": "code",
   "execution_count": 75,
   "metadata": {},
   "outputs": [],
   "source": [
    "#cleaning the column from fake values\n",
    "data[\"Class\"]= data[\"Class\"].apply(lambda x:[item for item in x if item not in ['']])"
   ]
  },
  {
   "cell_type": "code",
   "execution_count": 76,
   "metadata": {},
   "outputs": [
    {
     "data": {
      "text/html": [
       "<div>\n",
       "<style scoped>\n",
       "    .dataframe tbody tr th:only-of-type {\n",
       "        vertical-align: middle;\n",
       "    }\n",
       "\n",
       "    .dataframe tbody tr th {\n",
       "        vertical-align: top;\n",
       "    }\n",
       "\n",
       "    .dataframe thead th {\n",
       "        text-align: right;\n",
       "    }\n",
       "</style>\n",
       "<table border=\"1\" class=\"dataframe\">\n",
       "  <thead>\n",
       "    <tr style=\"text-align: right;\">\n",
       "      <th></th>\n",
       "      <th>BookTitle</th>\n",
       "      <th>Author</th>\n",
       "      <th>BookSummary</th>\n",
       "      <th>Class</th>\n",
       "      <th>Language</th>\n",
       "      <th>Pages</th>\n",
       "      <th>publisher</th>\n",
       "      <th>BookSize</th>\n",
       "      <th>format</th>\n",
       "      <th>DownloadURL</th>\n",
       "      <th>PageURL</th>\n",
       "    </tr>\n",
       "  </thead>\n",
       "  <tbody>\n",
       "    <tr>\n",
       "      <th>0</th>\n",
       "      <td>التضحية عند الحيوان</td>\n",
       "      <td>[هارون يحيى]</td>\n",
       "      <td>الروايات والكتب العربية تعتبر من الروابط بينن...</td>\n",
       "      <td>[الأدب العربي, متنوعة]</td>\n",
       "      <td>اللغة العربية</td>\n",
       "      <td>160 صفحة</td>\n",
       "      <td>عدنان أوكطار</td>\n",
       "      <td>5 ميغابايت</td>\n",
       "      <td>PDF</td>\n",
       "      <td>https://www.arab-books.com/books/%d9%83%d8%aa%...</td>\n",
       "      <td>https://www.arab-books.com/books/%d9%83%d8%aa%...</td>\n",
       "    </tr>\n",
       "    <tr>\n",
       "      <th>1</th>\n",
       "      <td>معجزة الذرة</td>\n",
       "      <td>[هارون يحيى]</td>\n",
       "      <td>الروايات والكتب العربية تعتبر من الروابط بينن...</td>\n",
       "      <td>[متنوعة, تطوير الذات]</td>\n",
       "      <td>اللغة العربية</td>\n",
       "      <td>136 صفحة</td>\n",
       "      <td>عدنان أوكطار</td>\n",
       "      <td>3.41 ميغابايت</td>\n",
       "      <td>PDF</td>\n",
       "      <td>https://www.arab-books.com/books/%d9%83%d8%aa%...</td>\n",
       "      <td>https://www.arab-books.com/books/%d9%83%d8%aa%...</td>\n",
       "    </tr>\n",
       "    <tr>\n",
       "      <th>2</th>\n",
       "      <td>لا تتجاهل</td>\n",
       "      <td>[هارون يحيى]</td>\n",
       "      <td>الروايات والكتب العربية تعتبر من الروابط بينن...</td>\n",
       "      <td>[الأدب العربي]</td>\n",
       "      <td>اللغة العربية</td>\n",
       "      <td>100 صفحة</td>\n",
       "      <td>عدنان أوكطار</td>\n",
       "      <td>3 ميغابايت</td>\n",
       "      <td>PDF</td>\n",
       "      <td>https://www.arab-books.com/books/%d9%83%d8%aa%...</td>\n",
       "      <td>https://www.arab-books.com/books/%d9%83%d8%aa%...</td>\n",
       "    </tr>\n",
       "  </tbody>\n",
       "</table>\n",
       "</div>"
      ],
      "text/plain": [
       "              BookTitle        Author  \\\n",
       "0   التضحية عند الحيوان  [هارون يحيى]   \n",
       "1           معجزة الذرة  [هارون يحيى]   \n",
       "2             لا تتجاهل  [هارون يحيى]   \n",
       "\n",
       "                                         BookSummary                   Class  \\\n",
       "0   الروايات والكتب العربية تعتبر من الروابط بينن...  [الأدب العربي, متنوعة]   \n",
       "1   الروايات والكتب العربية تعتبر من الروابط بينن...   [متنوعة, تطوير الذات]   \n",
       "2   الروايات والكتب العربية تعتبر من الروابط بينن...          [الأدب العربي]   \n",
       "\n",
       "        Language      Pages      publisher        BookSize format  \\\n",
       "0  اللغة العربية   160 صفحة   عدنان أوكطار      5 ميغابايت    PDF   \n",
       "1  اللغة العربية   136 صفحة   عدنان أوكطار   3.41 ميغابايت    PDF   \n",
       "2  اللغة العربية   100 صفحة   عدنان أوكطار      3 ميغابايت    PDF   \n",
       "\n",
       "                                         DownloadURL  \\\n",
       "0  https://www.arab-books.com/books/%d9%83%d8%aa%...   \n",
       "1  https://www.arab-books.com/books/%d9%83%d8%aa%...   \n",
       "2  https://www.arab-books.com/books/%d9%83%d8%aa%...   \n",
       "\n",
       "                                             PageURL  \n",
       "0  https://www.arab-books.com/books/%d9%83%d8%aa%...  \n",
       "1  https://www.arab-books.com/books/%d9%83%d8%aa%...  \n",
       "2  https://www.arab-books.com/books/%d9%83%d8%aa%...  "
      ]
     },
     "execution_count": 76,
     "metadata": {},
     "output_type": "execute_result"
    }
   ],
   "source": [
    "data.head(3)"
   ]
  },
  {
   "cell_type": "markdown",
   "metadata": {},
   "source": [
    "**now our dataset is clean <br>\n",
    "lets save it in CSV**"
   ]
  },
  {
   "cell_type": "code",
   "execution_count": 77,
   "metadata": {},
   "outputs": [],
   "source": [
    "data.to_csv(\"CleanScrappedDataset.csv\")\n",
    "data.to_json(\"CleanScrappedDataset.json\")"
   ]
  },
  {
   "cell_type": "markdown",
   "metadata": {},
   "source": [
    "<h2>3-auto correct the scrapped data</h2>"
   ]
  },
  {
   "cell_type": "markdown",
   "metadata": {},
   "source": [
    "**3.1-Auto contextual_correct**"
   ]
  },
  {
   "cell_type": "code",
   "execution_count": 78,
   "metadata": {},
   "outputs": [],
   "source": [
    "from ar_corrector.corrector import Corrector\n",
    "corr = Corrector()"
   ]
  },
  {
   "cell_type": "code",
   "execution_count": 79,
   "metadata": {},
   "outputs": [],
   "source": [
    "dataset=pd.read_json(\"CleanScrappedDataset.json\")"
   ]
  },
  {
   "cell_type": "code",
   "execution_count": 80,
   "metadata": {},
   "outputs": [
    {
     "data": {
      "text/plain": [
       "2831"
      ]
     },
     "execution_count": 80,
     "metadata": {},
     "output_type": "execute_result"
    }
   ],
   "source": [
    "#lenth befor context correction\n",
    "len(dataset[\"BookSummary\"][0])"
   ]
  },
  {
   "cell_type": "code",
   "execution_count": 81,
   "metadata": {},
   "outputs": [
    {
     "data": {
      "text/plain": [
       "2824"
      ]
     },
     "execution_count": 81,
     "metadata": {},
     "output_type": "execute_result"
    }
   ],
   "source": [
    "#len after context correction\n",
    "len(dataset[\"BookSummary\"].iloc[0:1].apply(lambda row:corr.contextual_correct(row))[0])"
   ]
  },
  {
   "cell_type": "markdown",
   "metadata": {},
   "source": [
    "we notice the diferrent betwen two lengths<br>\n",
    "lets apply to all data "
   ]
  },
  {
   "cell_type": "code",
   "execution_count": 82,
   "metadata": {},
   "outputs": [],
   "source": [
    "#context correction this take too time \n",
    "dataset[\"BookSummary\"]= dataset[\"BookSummary\"].apply(lambda row:corr.contextual_correct(row))"
   ]
  },
  {
   "cell_type": "markdown",
   "metadata": {},
   "source": [
    "**Tokenization to make Auto correction on words**"
   ]
  },
  {
   "cell_type": "code",
   "execution_count": 84,
   "metadata": {
    "scrolled": true
   },
   "outputs": [],
   "source": [
    "dataset['BookSummary'] = dataset.apply(lambda row: nltk.word_tokenize(row['BookSummary']), axis=1)"
   ]
  },
  {
   "cell_type": "code",
   "execution_count": 86,
   "metadata": {},
   "outputs": [
    {
     "data": {
      "text/plain": [
       "['الروايات',\n",
       " 'والكتب',\n",
       " 'العربية',\n",
       " 'تعتبر',\n",
       " 'من',\n",
       " 'الروابط',\n",
       " 'بيننا',\n",
       " 'وبين',\n",
       " 'تاريخنا',\n",
       " 'كعرب']"
      ]
     },
     "execution_count": 86,
     "metadata": {},
     "output_type": "execute_result"
    }
   ],
   "source": [
    "dataset[\"BookSummary\"].iloc[0][:10]"
   ]
  },
  {
   "cell_type": "markdown",
   "metadata": {},
   "source": [
    "**3.2-Auto word correct the scrapped data**"
   ]
  },
  {
   "cell_type": "code",
   "execution_count": 88,
   "metadata": {},
   "outputs": [
    {
     "data": {
      "text/html": [
       "<div>\n",
       "<style scoped>\n",
       "    .dataframe tbody tr th:only-of-type {\n",
       "        vertical-align: middle;\n",
       "    }\n",
       "\n",
       "    .dataframe tbody tr th {\n",
       "        vertical-align: top;\n",
       "    }\n",
       "\n",
       "    .dataframe thead th {\n",
       "        text-align: right;\n",
       "    }\n",
       "</style>\n",
       "<table border=\"1\" class=\"dataframe\">\n",
       "  <thead>\n",
       "    <tr style=\"text-align: right;\">\n",
       "      <th></th>\n",
       "      <th>BookTitle</th>\n",
       "      <th>Author</th>\n",
       "      <th>BookSummary</th>\n",
       "      <th>Class</th>\n",
       "      <th>Language</th>\n",
       "      <th>Pages</th>\n",
       "      <th>publisher</th>\n",
       "      <th>BookSize</th>\n",
       "      <th>format</th>\n",
       "      <th>DownloadURL</th>\n",
       "      <th>PageURL</th>\n",
       "    </tr>\n",
       "  </thead>\n",
       "  <tbody>\n",
       "    <tr>\n",
       "      <th>0</th>\n",
       "      <td>التضحية عند الحيوان</td>\n",
       "      <td>[هارون يحيى]</td>\n",
       "      <td>[الروايات, والكتب, العربية, تعتبر, من, الروابط...</td>\n",
       "      <td>[الأدب العربي, متنوعة]</td>\n",
       "      <td>اللغة العربية</td>\n",
       "      <td>160 صفحة</td>\n",
       "      <td>عدنان أوكطار</td>\n",
       "      <td>5 ميغابايت</td>\n",
       "      <td>PDF</td>\n",
       "      <td>https://www.arab-books.com/books/%d9%83%d8%aa%...</td>\n",
       "      <td>https://www.arab-books.com/books/%d9%83%d8%aa%...</td>\n",
       "    </tr>\n",
       "    <tr>\n",
       "      <th>1</th>\n",
       "      <td>معجزة الذرة</td>\n",
       "      <td>[هارون يحيى]</td>\n",
       "      <td>[الروايات, والكتب, العربية, تعتبر, من, الروابط...</td>\n",
       "      <td>[متنوعة, تطوير الذات]</td>\n",
       "      <td>اللغة العربية</td>\n",
       "      <td>136 صفحة</td>\n",
       "      <td>عدنان أوكطار</td>\n",
       "      <td>3.41 ميغابايت</td>\n",
       "      <td>PDF</td>\n",
       "      <td>https://www.arab-books.com/books/%d9%83%d8%aa%...</td>\n",
       "      <td>https://www.arab-books.com/books/%d9%83%d8%aa%...</td>\n",
       "    </tr>\n",
       "    <tr>\n",
       "      <th>2</th>\n",
       "      <td>لا تتجاهل</td>\n",
       "      <td>[هارون يحيى]</td>\n",
       "      <td>[الروايات, والكتب, العربية, تعتبر, من, الروابط...</td>\n",
       "      <td>[الأدب العربي]</td>\n",
       "      <td>اللغة العربية</td>\n",
       "      <td>100 صفحة</td>\n",
       "      <td>عدنان أوكطار</td>\n",
       "      <td>3 ميغابايت</td>\n",
       "      <td>PDF</td>\n",
       "      <td>https://www.arab-books.com/books/%d9%83%d8%aa%...</td>\n",
       "      <td>https://www.arab-books.com/books/%d9%83%d8%aa%...</td>\n",
       "    </tr>\n",
       "  </tbody>\n",
       "</table>\n",
       "</div>"
      ],
      "text/plain": [
       "              BookTitle        Author  \\\n",
       "0   التضحية عند الحيوان  [هارون يحيى]   \n",
       "1           معجزة الذرة  [هارون يحيى]   \n",
       "2             لا تتجاهل  [هارون يحيى]   \n",
       "\n",
       "                                         BookSummary                   Class  \\\n",
       "0  [الروايات, والكتب, العربية, تعتبر, من, الروابط...  [الأدب العربي, متنوعة]   \n",
       "1  [الروايات, والكتب, العربية, تعتبر, من, الروابط...   [متنوعة, تطوير الذات]   \n",
       "2  [الروايات, والكتب, العربية, تعتبر, من, الروابط...          [الأدب العربي]   \n",
       "\n",
       "        Language      Pages      publisher        BookSize format  \\\n",
       "0  اللغة العربية   160 صفحة   عدنان أوكطار      5 ميغابايت    PDF   \n",
       "1  اللغة العربية   136 صفحة   عدنان أوكطار   3.41 ميغابايت    PDF   \n",
       "2  اللغة العربية   100 صفحة   عدنان أوكطار      3 ميغابايت    PDF   \n",
       "\n",
       "                                         DownloadURL  \\\n",
       "0  https://www.arab-books.com/books/%d9%83%d8%aa%...   \n",
       "1  https://www.arab-books.com/books/%d9%83%d8%aa%...   \n",
       "2  https://www.arab-books.com/books/%d9%83%d8%aa%...   \n",
       "\n",
       "                                             PageURL  \n",
       "0  https://www.arab-books.com/books/%d9%83%d8%aa%...  \n",
       "1  https://www.arab-books.com/books/%d9%83%d8%aa%...  \n",
       "2  https://www.arab-books.com/books/%d9%83%d8%aa%...  "
      ]
     },
     "execution_count": 88,
     "metadata": {},
     "output_type": "execute_result"
    }
   ],
   "source": [
    "dataset.head(3)"
   ]
  },
  {
   "cell_type": "code",
   "execution_count": 89,
   "metadata": {},
   "outputs": [],
   "source": [
    "check=lambda word : type(corr.spell_correct(word,1)) is type([])\n",
    "get =lambda word : corr.spell_correct(word,1)[0][0]"
   ]
  },
  {
   "cell_type": "code",
   "execution_count": 90,
   "metadata": {},
   "outputs": [],
   "source": [
    "#this take alot of time to correct all words\n",
    "dataset[\"BookSummary\"]=dataset[\"BookSummary\"].apply(lambda row: [get(word) if check(word) else word for word in row])"
   ]
  },
  {
   "cell_type": "markdown",
   "metadata": {},
   "source": [
    "**Remove Aabic Stop words**"
   ]
  },
  {
   "cell_type": "code",
   "execution_count": 92,
   "metadata": {},
   "outputs": [
    {
     "data": {
      "text/plain": [
       "dict_keys(['حم', 'غداة', 'جنوب', 'ذواتا', 'حي', 'لازلنا', 'زمان', 'عوض', 'بنا', 'أجمع', 'ؤ', 'إيه', 'لدن', 'ها', 'ش', 'غرب', 'لازلتم', 'هج', 'هب', 'عسى', 'ل', 'آنفا', 'لازلتن', 'هن', 'هم', 'هل', 'هاؤم', 'ارتد', 'هي', 'هو', 'لازالتا', 'تلكما', 'وقت', 'أولئكم', 'نحو', 'حسب', 'نحن', 'لئن', 'اللذين', 'أب', 'أخ', 'قبل', 'بدون', 'مادامتا', 'بئس', 'د', 'ذا', 'لعمر', 'هاهنا', 'كما', 'لستم', 'لستن', 'حتى', 'لدى', 'ذه', 'ذي', 'ذو', 'أي', 'أو', 'أف', 'أن', 'أم', 'نعما', 'هيت', 'هيا', 'مابرح', 'حينما', 'هلا', 'إنما', 'جعل', 'كخ', 'ت', 'عما', 'بكن', 'بكم', 'مازلنا', 'غ', 'رويدك', 'دون', 'أولئك', 'كي', 'هؤلاء', 'لها', 'ي', 'مكانكما', 'كم', 'كل', 'مافتئتن', 'ماانفككتما', 'لعل', 'إنا', 'لازال', 'متى', 'مابرحوا', 'خلال', 'مازلتن', 'مازلتم', 'ثنا', 'راح', 'هلم', 'لولا', 'مابرحتما', 'مافتئت', 'مافتئتم', 'تان', 'مرة', 'أصلا', 'وشكان', 'كأنما', 'إياهما', 'أسفل', 'ص', 'أمامك', 'م', 'مادمتما', 'إياهم', 'ماانفكوا', 'استحال', 'إليك', 'أمسى', 'انبرى', 'مافتئتا', 'أنتم', 'لازالوا', 'أنتن', 'ليستا', 'ماانفككن', 'أوشك', 'طفق', 'لازالت', 'صه', 'لازالا', 'هناك', 'ليس', 'هاذين', 'مازالوا', 'إلا', 'سوف', 'ب', 'آمين', 'آناء', 'هاتين', 'ليت', 'و', 'أكثر', 'إلى', 'أثناء', 'ابن', 'بعدئذ', 'فلان', 'ليل', 'تين', 'أصبح', 'لكما', 'كأين', 'قد', 'ماانفككت', 'قط', 'لحظة', 'شمال', 'ثم', 'أجل', 'عليك', 'دونك', 'ذلكما', 'حما', 'أنت', 'التي', 'أوه', 'أنا', 'مثل', 'هذين', 'س', 'لازلتما', 'ك', 'أنى', 'حمو', 'حمي', 'هما', 'جير', 'أبدا', 'اللذان', 'عند', 'ظل', 'سرعان', 'خلف', 'تحول', 'هاته', 'هاتي', 'حوالى', 'جلل', 'تينك', 'أولاء', 'آنذاك', 'بعد', 'حين', 'ذيت', 'أيان', 'قلما', 'مازالا', 'خ', 'إزاء', 'بعض', 'فيما', 'لنا', 'مكانكن', 'تلكم', 'ذين', 'اللائي', 'تلقاء', 'خلا', 'حيث', 'مافتئوا', 'صار', 'أينما', 'يمين', 'رب', 'ماذا', 'لست', 'مافتئن', 'ذان', 'إياه', 'ذاك', 'ة', 'ن', 'حذار', 'ماانفكتا', 'ع', 'مادمتم', 'مادمتن', 'مابرحنا', 'ى', 'ذات', 'واها', 'أما', 'جدا', 'أمد', 'اللواتي', 'أمس', 'لسن', 'معاذ', 'الذين', 'حيثما', 'تحت', 'غير', 'حاشا', 'مافتئ', 'مابرحتن', 'مابرحتم', 'أمام', 'ج', 'أضحى', 'اللتيا', 'هاتان', 'هكذا', 'مابرحتا', 'كلتا', 'بضع', 'انقلب', 'اللتين', 'ساء', 'لستما', 'إليكن', 'إليكم', 'غدا', 'حاي', 'كلما', 'تبدل', 'مكانكم', 'كذلك', 'شتان', 'الآن', 'أولالك', 'إياي', 'ممن', 'إياك', 'كيت', 'بعدما', 'اخلولق', 'حرى', 'مادمنا', 'ط', 'ه', 'عاد', 'كيف', 'إياكم', 'إياكن', 'سبحان', 'هذان', 'أقبل', 'الألاء', 'مما', 'ليسوا', 'لما', 'ضحوة', 'مابرحا', 'آها', 'ماداموا', 'آ', 'كاد', 'عل', 'عن', 'مافتئتما', 'ز', 'لازلت', 'بيد', 'ق', 'ظ', 'ماداما', 'كان', 'كلاهما', 'بين', 'هيهات', 'إذا', 'إياكما', 'الذي', 'بل', 'نخ', 'طاق', 'أبو', 'أبي', 'هذا', 'لاسيما', 'هنا', 'ساءما', 'ذينك', 'آه', 'ساعة', 'ح', 'ابتدأ', 'صباح', 'ضمن', 'لكيلا', 'بمن', 'كيفما', 'سوى', 'إياها', 'تانك', 'أقل', 'إليكما', 'لئلا', 'كذا', 'آض', 'بما', 'ماانفكا', 'فيم', 'إياهن', 'فا', 'هذي', 'أبا', 'هذه', 'تجاه', 'شطر', 'حينئذ', 'أيضا', 'شرق', 'رجع', 'عامة', 'إذن', 'غروب', 'عندما', 'وراءك', 'إذ', 'ألا', 'لكي', 'مابرحت', 'لكن', 'لكم', 'يومئذ', 'لكنما', 'قبلما', 'بي', 'ذ', 'ماانفككنا', 'بك', 'بن', 'به', 'اللتان', 'ماانفككتم', 'تارة', 'بس', 'مابرحن', 'فقط', 'أنشأ', 'ماانفككتن', 'بخ', 'مثلما', 'شبه', 'بها', 'مازلتما', 'فوق', 'شهر', 'ماانفكت', 'إي', 'اللاتي', 'مازال', 'إن', 'كأن', 'كليهما', 'مافتئا', 'كليكما', 'شرع', 'ليسا', 'مكانك', 'ليست', 'وي', 'أعلى', 'لسنا', 'ثمة', 'لات', 'حسبما', 'ث', 'طالما', 'ذوا', 'مع', 'ماانفك', 'نفس', 'مذ', 'بكما', 'ذوي', 'ذوو', 'مه', 'من', 'حبذا', 'مادام', 'عدا', 'بينما', 'وراء', 'بات', 'عدس', 'وا', 'كلا', 'على', 'علق', 'مازلن', 'حار', 'وراءكن', 'مازالتا', 'وراءكم', 'مادمت', 'أخي', 'أخو', 'قام', 'ئ', 'إذما', 'أين', 'بطآن', 'الألى', 'ض', 'ذلكم', 'ذلكن', 'أية', 'نعم', 'أيا', 'هاك', 'ذواتي', 'مازلت', 'آنئذ', 'أخذ', 'ذلك', 'عندئذ', 'أخا', 'ويكأن', 'إيانا', 'كرب', 'لي', 'لو', 'لن', 'له', 'لم', 'لك', 'بلا', 'مادمن', 'ذانك', 'إما', 'هنالك', 'مادامت', 'ء', 'ريث', 'طق', 'جميع', 'حول', 'ر', 'مهما', 'تي', 'كأي', 'لوما', 'ته', 'ف', 'فو', 'في', 'أ', 'أول', 'مافتئنا', 'مساء', 'بماذا', 'عين', 'لا', 'جنب', 'تلك', 'بله', 'منذ', 'أنتما', 'وراءكما', 'لازلن', 'ما', 'بلى'])"
      ]
     },
     "execution_count": 92,
     "metadata": {},
     "output_type": "execute_result"
    }
   ],
   "source": [
    "import arabicstopwords.arabicstopwords as stp\n",
    "stp.classed_stopwords_list()"
   ]
  },
  {
   "cell_type": "code",
   "execution_count": 93,
   "metadata": {},
   "outputs": [],
   "source": [
    "#remove stop words\n",
    "dataset['BookSummary'] = dataset['BookSummary'].apply(lambda row: [word for word in row if not stp.is_stop(word)])"
   ]
  },
  {
   "cell_type": "code",
   "execution_count": 94,
   "metadata": {},
   "outputs": [
    {
     "data": {
      "text/html": [
       "<div>\n",
       "<style scoped>\n",
       "    .dataframe tbody tr th:only-of-type {\n",
       "        vertical-align: middle;\n",
       "    }\n",
       "\n",
       "    .dataframe tbody tr th {\n",
       "        vertical-align: top;\n",
       "    }\n",
       "\n",
       "    .dataframe thead th {\n",
       "        text-align: right;\n",
       "    }\n",
       "</style>\n",
       "<table border=\"1\" class=\"dataframe\">\n",
       "  <thead>\n",
       "    <tr style=\"text-align: right;\">\n",
       "      <th></th>\n",
       "      <th>BookTitle</th>\n",
       "      <th>Author</th>\n",
       "      <th>Class</th>\n",
       "      <th>BookSummary</th>\n",
       "    </tr>\n",
       "  </thead>\n",
       "  <tbody>\n",
       "    <tr>\n",
       "      <th>0</th>\n",
       "      <td>التضحية عند الحيوان</td>\n",
       "      <td>[هارون يحيى]</td>\n",
       "      <td>[الأدب العربي, متنوعة]</td>\n",
       "      <td>[الروايات, والكتب, العربية, تعتبر, الروابط, تا...</td>\n",
       "    </tr>\n",
       "    <tr>\n",
       "      <th>1</th>\n",
       "      <td>معجزة الذرة</td>\n",
       "      <td>[هارون يحيى]</td>\n",
       "      <td>[متنوعة, تطوير الذات]</td>\n",
       "      <td>[الروايات, والكتب, العربية, تعتبر, الروابط, تا...</td>\n",
       "    </tr>\n",
       "    <tr>\n",
       "      <th>2</th>\n",
       "      <td>لا تتجاهل</td>\n",
       "      <td>[هارون يحيى]</td>\n",
       "      <td>[الأدب العربي]</td>\n",
       "      <td>[الروايات, والكتب, العربية, تعتبر, الروابط, تا...</td>\n",
       "    </tr>\n",
       "    <tr>\n",
       "      <th>3</th>\n",
       "      <td>الحياة في سبيل الله</td>\n",
       "      <td>[هارون يحيى]</td>\n",
       "      <td>[اسلامية]</td>\n",
       "      <td>[الروايات, والكتب, العربية, تعتبر, الروابط, تا...</td>\n",
       "    </tr>\n",
       "    <tr>\n",
       "      <th>4</th>\n",
       "      <td>العظمة في كل مكان</td>\n",
       "      <td>[هارون يحيى]</td>\n",
       "      <td>[الأدب العربي]</td>\n",
       "      <td>[الروايات, والكتب, العربية, تعتبر, الروابط, تا...</td>\n",
       "    </tr>\n",
       "  </tbody>\n",
       "</table>\n",
       "</div>"
      ],
      "text/plain": [
       "              BookTitle        Author                   Class  \\\n",
       "0   التضحية عند الحيوان  [هارون يحيى]  [الأدب العربي, متنوعة]   \n",
       "1           معجزة الذرة  [هارون يحيى]   [متنوعة, تطوير الذات]   \n",
       "2             لا تتجاهل  [هارون يحيى]          [الأدب العربي]   \n",
       "3   الحياة في سبيل الله  [هارون يحيى]               [اسلامية]   \n",
       "4     العظمة في كل مكان  [هارون يحيى]          [الأدب العربي]   \n",
       "\n",
       "                                         BookSummary  \n",
       "0  [الروايات, والكتب, العربية, تعتبر, الروابط, تا...  \n",
       "1  [الروايات, والكتب, العربية, تعتبر, الروابط, تا...  \n",
       "2  [الروايات, والكتب, العربية, تعتبر, الروابط, تا...  \n",
       "3  [الروايات, والكتب, العربية, تعتبر, الروابط, تا...  \n",
       "4  [الروايات, والكتب, العربية, تعتبر, الروابط, تا...  "
      ]
     },
     "execution_count": 94,
     "metadata": {},
     "output_type": "execute_result"
    }
   ],
   "source": [
    "dataset[['BookTitle','Author','Class',\"BookSummary\"]].head()"
   ]
  },
  {
   "cell_type": "markdown",
   "metadata": {},
   "source": [
    "**Stemming**"
   ]
  },
  {
   "cell_type": "code",
   "execution_count": 95,
   "metadata": {},
   "outputs": [],
   "source": [
    "from nltk.stem.isri import ISRIStemmer\n",
    "st = ISRIStemmer()"
   ]
  },
  {
   "cell_type": "code",
   "execution_count": 96,
   "metadata": {},
   "outputs": [],
   "source": [
    "dataset['BookSummary']=dataset['BookSummary'].apply(lambda x: [st.stem(item) for item in x])"
   ]
  },
  {
   "cell_type": "code",
   "execution_count": 97,
   "metadata": {},
   "outputs": [
    {
     "data": {
      "text/plain": [
       "['روي', 'كتب', 'عرب', 'عبر', 'ربط', 'ارخ', 'كعرب', 'او', 'لغة', 'عرب']"
      ]
     },
     "execution_count": 97,
     "metadata": {},
     "output_type": "execute_result"
    }
   ],
   "source": [
    "dataset['BookSummary'].iloc[0][:10]"
   ]
  },
  {
   "cell_type": "code",
   "execution_count": 99,
   "metadata": {},
   "outputs": [
    {
     "data": {
      "text/html": [
       "<div>\n",
       "<style scoped>\n",
       "    .dataframe tbody tr th:only-of-type {\n",
       "        vertical-align: middle;\n",
       "    }\n",
       "\n",
       "    .dataframe tbody tr th {\n",
       "        vertical-align: top;\n",
       "    }\n",
       "\n",
       "    .dataframe thead th {\n",
       "        text-align: right;\n",
       "    }\n",
       "</style>\n",
       "<table border=\"1\" class=\"dataframe\">\n",
       "  <thead>\n",
       "    <tr style=\"text-align: right;\">\n",
       "      <th></th>\n",
       "      <th>BookTitle</th>\n",
       "      <th>Author</th>\n",
       "      <th>BookSummary</th>\n",
       "      <th>Class</th>\n",
       "      <th>Language</th>\n",
       "      <th>Pages</th>\n",
       "      <th>publisher</th>\n",
       "      <th>BookSize</th>\n",
       "      <th>format</th>\n",
       "      <th>DownloadURL</th>\n",
       "      <th>PageURL</th>\n",
       "    </tr>\n",
       "  </thead>\n",
       "  <tbody>\n",
       "    <tr>\n",
       "      <th>0</th>\n",
       "      <td>التضحية عند الحيوان</td>\n",
       "      <td>[هارون يحيى]</td>\n",
       "      <td>[روي, كتب, عرب, عبر, ربط, ارخ, كعرب, او, لغة, ...</td>\n",
       "      <td>[الأدب العربي, متنوعة]</td>\n",
       "      <td>اللغة العربية</td>\n",
       "      <td>160 صفحة</td>\n",
       "      <td>عدنان أوكطار</td>\n",
       "      <td>5 ميغابايت</td>\n",
       "      <td>PDF</td>\n",
       "      <td>https://www.arab-books.com/books/%d9%83%d8%aa%...</td>\n",
       "      <td>https://www.arab-books.com/books/%d9%83%d8%aa%...</td>\n",
       "    </tr>\n",
       "    <tr>\n",
       "      <th>1</th>\n",
       "      <td>معجزة الذرة</td>\n",
       "      <td>[هارون يحيى]</td>\n",
       "      <td>[روي, كتب, عرب, عبر, ربط, ارخ, كعرب, او, لغة, ...</td>\n",
       "      <td>[متنوعة, تطوير الذات]</td>\n",
       "      <td>اللغة العربية</td>\n",
       "      <td>136 صفحة</td>\n",
       "      <td>عدنان أوكطار</td>\n",
       "      <td>3.41 ميغابايت</td>\n",
       "      <td>PDF</td>\n",
       "      <td>https://www.arab-books.com/books/%d9%83%d8%aa%...</td>\n",
       "      <td>https://www.arab-books.com/books/%d9%83%d8%aa%...</td>\n",
       "    </tr>\n",
       "    <tr>\n",
       "      <th>2</th>\n",
       "      <td>لا تتجاهل</td>\n",
       "      <td>[هارون يحيى]</td>\n",
       "      <td>[روي, كتب, عرب, عبر, ربط, ارخ, كعرب, او, لغة, ...</td>\n",
       "      <td>[الأدب العربي]</td>\n",
       "      <td>اللغة العربية</td>\n",
       "      <td>100 صفحة</td>\n",
       "      <td>عدنان أوكطار</td>\n",
       "      <td>3 ميغابايت</td>\n",
       "      <td>PDF</td>\n",
       "      <td>https://www.arab-books.com/books/%d9%83%d8%aa%...</td>\n",
       "      <td>https://www.arab-books.com/books/%d9%83%d8%aa%...</td>\n",
       "    </tr>\n",
       "  </tbody>\n",
       "</table>\n",
       "</div>"
      ],
      "text/plain": [
       "              BookTitle        Author  \\\n",
       "0   التضحية عند الحيوان  [هارون يحيى]   \n",
       "1           معجزة الذرة  [هارون يحيى]   \n",
       "2             لا تتجاهل  [هارون يحيى]   \n",
       "\n",
       "                                         BookSummary                   Class  \\\n",
       "0  [روي, كتب, عرب, عبر, ربط, ارخ, كعرب, او, لغة, ...  [الأدب العربي, متنوعة]   \n",
       "1  [روي, كتب, عرب, عبر, ربط, ارخ, كعرب, او, لغة, ...   [متنوعة, تطوير الذات]   \n",
       "2  [روي, كتب, عرب, عبر, ربط, ارخ, كعرب, او, لغة, ...          [الأدب العربي]   \n",
       "\n",
       "        Language      Pages      publisher        BookSize format  \\\n",
       "0  اللغة العربية   160 صفحة   عدنان أوكطار      5 ميغابايت    PDF   \n",
       "1  اللغة العربية   136 صفحة   عدنان أوكطار   3.41 ميغابايت    PDF   \n",
       "2  اللغة العربية   100 صفحة   عدنان أوكطار      3 ميغابايت    PDF   \n",
       "\n",
       "                                         DownloadURL  \\\n",
       "0  https://www.arab-books.com/books/%d9%83%d8%aa%...   \n",
       "1  https://www.arab-books.com/books/%d9%83%d8%aa%...   \n",
       "2  https://www.arab-books.com/books/%d9%83%d8%aa%...   \n",
       "\n",
       "                                             PageURL  \n",
       "0  https://www.arab-books.com/books/%d9%83%d8%aa%...  \n",
       "1  https://www.arab-books.com/books/%d9%83%d8%aa%...  \n",
       "2  https://www.arab-books.com/books/%d9%83%d8%aa%...  "
      ]
     },
     "execution_count": 99,
     "metadata": {},
     "output_type": "execute_result"
    }
   ],
   "source": [
    "dataset.head(3)"
   ]
  },
  {
   "cell_type": "markdown",
   "metadata": {},
   "source": [
    "<h2>4-Save your data in csv file \"Data sheet\" </h2><br>\n",
    "with the following columns \" Author - title - publishing year - link for pdf - etc. \""
   ]
  },
  {
   "cell_type": "code",
   "execution_count": 100,
   "metadata": {},
   "outputs": [],
   "source": [
    "dataset.to_csv(\"finalCleanedData.csv\",header=True)"
   ]
  },
  {
   "cell_type": "markdown",
   "metadata": {},
   "source": [
    "**Save your data in json file to save our lists as it is**"
   ]
  },
  {
   "cell_type": "code",
   "execution_count": 101,
   "metadata": {},
   "outputs": [],
   "source": [
    "dataset.to_json(\"finalCleanedData.csv\")"
   ]
  },
  {
   "cell_type": "markdown",
   "metadata": {},
   "source": [
    "<h2>5-Cluster this data for topic modeling</h2>"
   ]
  },
  {
   "cell_type": "code",
   "execution_count": 102,
   "metadata": {},
   "outputs": [],
   "source": [
    "mydata=pd.read_json(\"finalCleanedData.csv\")"
   ]
  },
  {
   "cell_type": "code",
   "execution_count": 103,
   "metadata": {},
   "outputs": [
    {
     "data": {
      "text/html": [
       "<div>\n",
       "<style scoped>\n",
       "    .dataframe tbody tr th:only-of-type {\n",
       "        vertical-align: middle;\n",
       "    }\n",
       "\n",
       "    .dataframe tbody tr th {\n",
       "        vertical-align: top;\n",
       "    }\n",
       "\n",
       "    .dataframe thead th {\n",
       "        text-align: right;\n",
       "    }\n",
       "</style>\n",
       "<table border=\"1\" class=\"dataframe\">\n",
       "  <thead>\n",
       "    <tr style=\"text-align: right;\">\n",
       "      <th></th>\n",
       "      <th>BookTitle</th>\n",
       "      <th>Author</th>\n",
       "      <th>BookSummary</th>\n",
       "      <th>Class</th>\n",
       "      <th>Language</th>\n",
       "      <th>Pages</th>\n",
       "      <th>publisher</th>\n",
       "      <th>BookSize</th>\n",
       "      <th>format</th>\n",
       "      <th>DownloadURL</th>\n",
       "      <th>PageURL</th>\n",
       "    </tr>\n",
       "  </thead>\n",
       "  <tbody>\n",
       "    <tr>\n",
       "      <th>0</th>\n",
       "      <td>التضحية عند الحيوان</td>\n",
       "      <td>[هارون يحيى]</td>\n",
       "      <td>[روي, كتب, عرب, عبر, ربط, ارخ, كعرب, او, لغة, ...</td>\n",
       "      <td>[الأدب العربي, متنوعة]</td>\n",
       "      <td>اللغة العربية</td>\n",
       "      <td>160 صفحة</td>\n",
       "      <td>عدنان أوكطار</td>\n",
       "      <td>5 ميغابايت</td>\n",
       "      <td>PDF</td>\n",
       "      <td>https://www.arab-books.com/books/%d9%83%d8%aa%...</td>\n",
       "      <td>https://www.arab-books.com/books/%d9%83%d8%aa%...</td>\n",
       "    </tr>\n",
       "    <tr>\n",
       "      <th>1</th>\n",
       "      <td>معجزة الذرة</td>\n",
       "      <td>[هارون يحيى]</td>\n",
       "      <td>[روي, كتب, عرب, عبر, ربط, ارخ, كعرب, او, لغة, ...</td>\n",
       "      <td>[متنوعة, تطوير الذات]</td>\n",
       "      <td>اللغة العربية</td>\n",
       "      <td>136 صفحة</td>\n",
       "      <td>عدنان أوكطار</td>\n",
       "      <td>3.41 ميغابايت</td>\n",
       "      <td>PDF</td>\n",
       "      <td>https://www.arab-books.com/books/%d9%83%d8%aa%...</td>\n",
       "      <td>https://www.arab-books.com/books/%d9%83%d8%aa%...</td>\n",
       "    </tr>\n",
       "    <tr>\n",
       "      <th>2</th>\n",
       "      <td>لا تتجاهل</td>\n",
       "      <td>[هارون يحيى]</td>\n",
       "      <td>[روي, كتب, عرب, عبر, ربط, ارخ, كعرب, او, لغة, ...</td>\n",
       "      <td>[الأدب العربي]</td>\n",
       "      <td>اللغة العربية</td>\n",
       "      <td>100 صفحة</td>\n",
       "      <td>عدنان أوكطار</td>\n",
       "      <td>3 ميغابايت</td>\n",
       "      <td>PDF</td>\n",
       "      <td>https://www.arab-books.com/books/%d9%83%d8%aa%...</td>\n",
       "      <td>https://www.arab-books.com/books/%d9%83%d8%aa%...</td>\n",
       "    </tr>\n",
       "    <tr>\n",
       "      <th>3</th>\n",
       "      <td>الحياة في سبيل الله</td>\n",
       "      <td>[هارون يحيى]</td>\n",
       "      <td>[روي, كتب, عرب, عبر, ربط, ارخ, كعرب, او, لغة, ...</td>\n",
       "      <td>[اسلامية]</td>\n",
       "      <td>اللغة العربية</td>\n",
       "      <td>100 صفحة</td>\n",
       "      <td>عدنان أوكطار</td>\n",
       "      <td>2.11 ميغابايت</td>\n",
       "      <td>PDF</td>\n",
       "      <td>https://www.arab-books.com/books/%d9%83%d8%aa%...</td>\n",
       "      <td>https://www.arab-books.com/books/%d9%83%d8%aa%...</td>\n",
       "    </tr>\n",
       "    <tr>\n",
       "      <th>4</th>\n",
       "      <td>العظمة في كل مكان</td>\n",
       "      <td>[هارون يحيى]</td>\n",
       "      <td>[روي, كتب, عرب, عبر, ربط, ارخ, كعرب, او, لغة, ...</td>\n",
       "      <td>[الأدب العربي]</td>\n",
       "      <td>اللغة العربية</td>\n",
       "      <td>140 صفحة</td>\n",
       "      <td>عدنان أوكطار</td>\n",
       "      <td>5.3 ميغابايت</td>\n",
       "      <td>PDF</td>\n",
       "      <td>https://www.arab-books.com/books/%d9%83%d8%aa%...</td>\n",
       "      <td>https://www.arab-books.com/books/%d9%83%d8%aa%...</td>\n",
       "    </tr>\n",
       "  </tbody>\n",
       "</table>\n",
       "</div>"
      ],
      "text/plain": [
       "              BookTitle        Author  \\\n",
       "0   التضحية عند الحيوان  [هارون يحيى]   \n",
       "1           معجزة الذرة  [هارون يحيى]   \n",
       "2             لا تتجاهل  [هارون يحيى]   \n",
       "3   الحياة في سبيل الله  [هارون يحيى]   \n",
       "4     العظمة في كل مكان  [هارون يحيى]   \n",
       "\n",
       "                                         BookSummary                   Class  \\\n",
       "0  [روي, كتب, عرب, عبر, ربط, ارخ, كعرب, او, لغة, ...  [الأدب العربي, متنوعة]   \n",
       "1  [روي, كتب, عرب, عبر, ربط, ارخ, كعرب, او, لغة, ...   [متنوعة, تطوير الذات]   \n",
       "2  [روي, كتب, عرب, عبر, ربط, ارخ, كعرب, او, لغة, ...          [الأدب العربي]   \n",
       "3  [روي, كتب, عرب, عبر, ربط, ارخ, كعرب, او, لغة, ...               [اسلامية]   \n",
       "4  [روي, كتب, عرب, عبر, ربط, ارخ, كعرب, او, لغة, ...          [الأدب العربي]   \n",
       "\n",
       "        Language      Pages      publisher        BookSize format  \\\n",
       "0  اللغة العربية   160 صفحة   عدنان أوكطار      5 ميغابايت    PDF   \n",
       "1  اللغة العربية   136 صفحة   عدنان أوكطار   3.41 ميغابايت    PDF   \n",
       "2  اللغة العربية   100 صفحة   عدنان أوكطار      3 ميغابايت    PDF   \n",
       "3  اللغة العربية   100 صفحة   عدنان أوكطار   2.11 ميغابايت    PDF   \n",
       "4  اللغة العربية   140 صفحة   عدنان أوكطار    5.3 ميغابايت    PDF   \n",
       "\n",
       "                                         DownloadURL  \\\n",
       "0  https://www.arab-books.com/books/%d9%83%d8%aa%...   \n",
       "1  https://www.arab-books.com/books/%d9%83%d8%aa%...   \n",
       "2  https://www.arab-books.com/books/%d9%83%d8%aa%...   \n",
       "3  https://www.arab-books.com/books/%d9%83%d8%aa%...   \n",
       "4  https://www.arab-books.com/books/%d9%83%d8%aa%...   \n",
       "\n",
       "                                             PageURL  \n",
       "0  https://www.arab-books.com/books/%d9%83%d8%aa%...  \n",
       "1  https://www.arab-books.com/books/%d9%83%d8%aa%...  \n",
       "2  https://www.arab-books.com/books/%d9%83%d8%aa%...  \n",
       "3  https://www.arab-books.com/books/%d9%83%d8%aa%...  \n",
       "4  https://www.arab-books.com/books/%d9%83%d8%aa%...  "
      ]
     },
     "execution_count": 103,
     "metadata": {},
     "output_type": "execute_result"
    }
   ],
   "source": [
    "dataset.head()"
   ]
  },
  {
   "cell_type": "code",
   "execution_count": 104,
   "metadata": {},
   "outputs": [
    {
     "data": {
      "text/html": [
       "<div>\n",
       "<style scoped>\n",
       "    .dataframe tbody tr th:only-of-type {\n",
       "        vertical-align: middle;\n",
       "    }\n",
       "\n",
       "    .dataframe tbody tr th {\n",
       "        vertical-align: top;\n",
       "    }\n",
       "\n",
       "    .dataframe thead th {\n",
       "        text-align: right;\n",
       "    }\n",
       "</style>\n",
       "<table border=\"1\" class=\"dataframe\">\n",
       "  <thead>\n",
       "    <tr style=\"text-align: right;\">\n",
       "      <th></th>\n",
       "      <th>BookTitle</th>\n",
       "      <th>Author</th>\n",
       "      <th>BookSummary</th>\n",
       "    </tr>\n",
       "  </thead>\n",
       "  <tbody>\n",
       "    <tr>\n",
       "      <th>0</th>\n",
       "      <td>التضحية عند الحيوان</td>\n",
       "      <td>[هارون يحيى]</td>\n",
       "      <td>[روي, كتب, عرب, عبر, ربط, ارخ, كعرب, او, لغة, ...</td>\n",
       "    </tr>\n",
       "    <tr>\n",
       "      <th>1</th>\n",
       "      <td>معجزة الذرة</td>\n",
       "      <td>[هارون يحيى]</td>\n",
       "      <td>[روي, كتب, عرب, عبر, ربط, ارخ, كعرب, او, لغة, ...</td>\n",
       "    </tr>\n",
       "    <tr>\n",
       "      <th>2</th>\n",
       "      <td>لا تتجاهل</td>\n",
       "      <td>[هارون يحيى]</td>\n",
       "      <td>[روي, كتب, عرب, عبر, ربط, ارخ, كعرب, او, لغة, ...</td>\n",
       "    </tr>\n",
       "    <tr>\n",
       "      <th>3</th>\n",
       "      <td>الحياة في سبيل الله</td>\n",
       "      <td>[هارون يحيى]</td>\n",
       "      <td>[روي, كتب, عرب, عبر, ربط, ارخ, كعرب, او, لغة, ...</td>\n",
       "    </tr>\n",
       "    <tr>\n",
       "      <th>4</th>\n",
       "      <td>العظمة في كل مكان</td>\n",
       "      <td>[هارون يحيى]</td>\n",
       "      <td>[روي, كتب, عرب, عبر, ربط, ارخ, كعرب, او, لغة, ...</td>\n",
       "    </tr>\n",
       "  </tbody>\n",
       "</table>\n",
       "</div>"
      ],
      "text/plain": [
       "              BookTitle        Author  \\\n",
       "0   التضحية عند الحيوان  [هارون يحيى]   \n",
       "1           معجزة الذرة  [هارون يحيى]   \n",
       "2             لا تتجاهل  [هارون يحيى]   \n",
       "3   الحياة في سبيل الله  [هارون يحيى]   \n",
       "4     العظمة في كل مكان  [هارون يحيى]   \n",
       "\n",
       "                                         BookSummary  \n",
       "0  [روي, كتب, عرب, عبر, ربط, ارخ, كعرب, او, لغة, ...  \n",
       "1  [روي, كتب, عرب, عبر, ربط, ارخ, كعرب, او, لغة, ...  \n",
       "2  [روي, كتب, عرب, عبر, ربط, ارخ, كعرب, او, لغة, ...  \n",
       "3  [روي, كتب, عرب, عبر, ربط, ارخ, كعرب, او, لغة, ...  \n",
       "4  [روي, كتب, عرب, عبر, ربط, ارخ, كعرب, او, لغة, ...  "
      ]
     },
     "execution_count": 104,
     "metadata": {},
     "output_type": "execute_result"
    }
   ],
   "source": [
    "#clustering by BookSummary base\n",
    "mydata=mydata[[\"BookTitle\",\"Author\",\"BookSummary\"]]\n",
    "mydata.head()"
   ]
  },
  {
   "cell_type": "code",
   "execution_count": 105,
   "metadata": {},
   "outputs": [
    {
     "data": {
      "text/plain": [
       "['روي', 'كتب', 'عرب', 'عبر', 'ربط', 'ارخ', 'كعرب', 'او', 'لغة', 'عرب']"
      ]
     },
     "execution_count": 105,
     "metadata": {},
     "output_type": "execute_result"
    }
   ],
   "source": [
    "mydata[\"BookSummary\"][0][:10]"
   ]
  },
  {
   "cell_type": "code",
   "execution_count": 106,
   "metadata": {},
   "outputs": [],
   "source": [
    "mydata[\"BookSummary\"]=mydata[\"BookSummary\"].apply(lambda row: ' '.join(row))"
   ]
  },
  {
   "cell_type": "code",
   "execution_count": 107,
   "metadata": {},
   "outputs": [
    {
     "data": {
      "text/plain": [
       "'روي كتب عرب عبر ربط ارخ كعرب او لغة عرب ارخ حدث ارخ روي عرب الي الن قدم عصر كنولوج قئم حضر كتب ضحي حيو كتب هار يحى عبر صفح ضحي تعا رحم حبة كفل خلق حسن سعى جمع نشر فرد ميز سبغ انس حلى حبة حرم بيئ يعش انس سعى يحا وسط جمع نشر فضل كتب وقع نول خصل فضل درس تصف ضحي يثر يقم أعمال تعا كفل يفض شفق محب رحم كائ بشر نول بحث جمع فضل حيو حيو لقى هلك خطر وجه عدئ حمي حية صغر طير عرض خطر حمي فرخ نطق قطب تجمد مكث طير طرق أشهر حرك وفر حرر دفء فرخ نجد حيو حمل سؤل رعي قطع سبل صغر حيو وبق يتي نجد مثل اذج كثر كثر كتب ضحي حيو عدن كطر عرف بسم هار يحى كتب بحث ترك سلم ولد نقر عام وعش عام نقل لإسطنبول تحق بكل فنن جمل جمع عمر سنن سنا جمع بحث فصل لسف ادة ايديولوجية سئد تحط إنشاء ؤسس بحث علم ترك ركز كتب فند كذب نظر تطر رقء نشء وبي نقض رأه ركز كتب وضع اسن صهو لحد مئة كتب قيم أخلاق قرأ مواضيع يمن عدد خلف رجم عدد لغت علم وسم قلم هار يحى شهر كتب كتب طلس خلق يقع صفح حدث رفض نظر نشء رقء درو شهر ؤلف طلس خلق نهي درن عجز لذر عجز خلق نبت خلق كون مفاهيم سسي قرآ فكر حقق كرث جلب داروينية سان عجز نمل عجز نحل عجز جهز نعي عمل عدن كطر اسم عار جاويد يلج كتب قسم كبر نشر اسم عار هار يحى اسم عار يتك اسم نبي شرة ذكرى نبي هار نبي يحى الل حرب فكر لحد كتب ضحي حيو ترن أنفس اذج سلك حيو يثر غرب دهش بعث أمل سلك نطق حكم عقل ويب وعي خرق نظر عمق قرء اذج قفز ذهن سؤل تلي يمكن لحو عرف يمك فكر تجد جبة سؤل كتب ايد خلق الل رحم رحم لهم طرق تسر طئع سمو ارض طوع امر على يمك قرء حمل روي عرب كبت كتب عرب'"
      ]
     },
     "execution_count": 107,
     "metadata": {},
     "output_type": "execute_result"
    }
   ],
   "source": [
    "mydata[\"BookSummary\"][0]"
   ]
  },
  {
   "cell_type": "code",
   "execution_count": 108,
   "metadata": {},
   "outputs": [
    {
     "data": {
      "text/html": [
       "<div>\n",
       "<style scoped>\n",
       "    .dataframe tbody tr th:only-of-type {\n",
       "        vertical-align: middle;\n",
       "    }\n",
       "\n",
       "    .dataframe tbody tr th {\n",
       "        vertical-align: top;\n",
       "    }\n",
       "\n",
       "    .dataframe thead th {\n",
       "        text-align: right;\n",
       "    }\n",
       "</style>\n",
       "<table border=\"1\" class=\"dataframe\">\n",
       "  <thead>\n",
       "    <tr style=\"text-align: right;\">\n",
       "      <th></th>\n",
       "      <th>BookTitle</th>\n",
       "      <th>Author</th>\n",
       "      <th>BookSummary</th>\n",
       "    </tr>\n",
       "  </thead>\n",
       "  <tbody>\n",
       "    <tr>\n",
       "      <th>0</th>\n",
       "      <td>التضحية عند الحيوان</td>\n",
       "      <td>[هارون يحيى]</td>\n",
       "      <td>روي كتب عرب عبر ربط ارخ كعرب او لغة عرب ارخ حد...</td>\n",
       "    </tr>\n",
       "    <tr>\n",
       "      <th>1</th>\n",
       "      <td>معجزة الذرة</td>\n",
       "      <td>[هارون يحيى]</td>\n",
       "      <td>روي كتب عرب عبر ربط ارخ كعرب او لغة عرب ارخ حد...</td>\n",
       "    </tr>\n",
       "    <tr>\n",
       "      <th>2</th>\n",
       "      <td>لا تتجاهل</td>\n",
       "      <td>[هارون يحيى]</td>\n",
       "      <td>روي كتب عرب عبر ربط ارخ كعرب او لغة عرب ارخ حد...</td>\n",
       "    </tr>\n",
       "    <tr>\n",
       "      <th>3</th>\n",
       "      <td>الحياة في سبيل الله</td>\n",
       "      <td>[هارون يحيى]</td>\n",
       "      <td>روي كتب عرب عبر ربط ارخ كعرب او لغة عرب ارخ حد...</td>\n",
       "    </tr>\n",
       "    <tr>\n",
       "      <th>4</th>\n",
       "      <td>العظمة في كل مكان</td>\n",
       "      <td>[هارون يحيى]</td>\n",
       "      <td>روي كتب عرب عبر ربط ارخ كعرب او لغة عرب ارخ حد...</td>\n",
       "    </tr>\n",
       "  </tbody>\n",
       "</table>\n",
       "</div>"
      ],
      "text/plain": [
       "              BookTitle        Author  \\\n",
       "0   التضحية عند الحيوان  [هارون يحيى]   \n",
       "1           معجزة الذرة  [هارون يحيى]   \n",
       "2             لا تتجاهل  [هارون يحيى]   \n",
       "3   الحياة في سبيل الله  [هارون يحيى]   \n",
       "4     العظمة في كل مكان  [هارون يحيى]   \n",
       "\n",
       "                                         BookSummary  \n",
       "0  روي كتب عرب عبر ربط ارخ كعرب او لغة عرب ارخ حد...  \n",
       "1  روي كتب عرب عبر ربط ارخ كعرب او لغة عرب ارخ حد...  \n",
       "2  روي كتب عرب عبر ربط ارخ كعرب او لغة عرب ارخ حد...  \n",
       "3  روي كتب عرب عبر ربط ارخ كعرب او لغة عرب ارخ حد...  \n",
       "4  روي كتب عرب عبر ربط ارخ كعرب او لغة عرب ارخ حد...  "
      ]
     },
     "execution_count": 108,
     "metadata": {},
     "output_type": "execute_result"
    }
   ],
   "source": [
    "mydata.head()"
   ]
  },
  {
   "cell_type": "markdown",
   "metadata": {},
   "source": [
    "<h3>kmean clustering using CountVectorizer<h3>"
   ]
  },
  {
   "cell_type": "code",
   "execution_count": 109,
   "metadata": {},
   "outputs": [
    {
     "data": {
      "text/plain": [
       "<5898x15872 sparse matrix of type '<class 'numpy.int64'>'\n",
       "\twith 663630 stored elements in Compressed Sparse Row format>"
      ]
     },
     "execution_count": 109,
     "metadata": {},
     "output_type": "execute_result"
    }
   ],
   "source": [
    "from sklearn.feature_extraction.text import CountVectorizer\n",
    "count_vect = CountVectorizer()\n",
    "bow = count_vect.fit_transform(mydata['BookSummary'].values)\n",
    "bow"
   ]
  },
  {
   "cell_type": "code",
   "execution_count": 110,
   "metadata": {},
   "outputs": [],
   "source": [
    "terms = count_vect.get_feature_names()"
   ]
  },
  {
   "cell_type": "code",
   "execution_count": 113,
   "metadata": {},
   "outputs": [
    {
     "data": {
      "text/plain": [
       "KMeans(n_clusters=20, random_state=99)"
      ]
     },
     "execution_count": 113,
     "metadata": {},
     "output_type": "execute_result"
    }
   ],
   "source": [
    "from sklearn.cluster import KMeans\n",
    "model = KMeans(n_clusters = 20,init='k-means++',random_state=99)\n",
    "model.fit(bow)"
   ]
  },
  {
   "cell_type": "code",
   "execution_count": 114,
   "metadata": {},
   "outputs": [],
   "source": [
    "labels = model.labels_\n",
    "cluster_center=model.cluster_centers_"
   ]
  },
  {
   "cell_type": "code",
   "execution_count": 115,
   "metadata": {},
   "outputs": [
    {
     "data": {
      "text/plain": [
       "array([[0.        , 0.        , 0.        , ..., 0.        , 0.        ,\n",
       "        0.        ],\n",
       "       [0.        , 0.        , 0.        , ..., 0.        , 0.        ,\n",
       "        0.        ],\n",
       "       [0.        , 0.        , 0.        , ..., 0.        , 0.        ,\n",
       "        0.        ],\n",
       "       ...,\n",
       "       [0.        , 0.        , 0.        , ..., 0.        , 0.        ,\n",
       "        0.        ],\n",
       "       [0.        , 0.        , 0.        , ..., 0.        , 0.        ,\n",
       "        0.        ],\n",
       "       [0.00355872, 0.00355872, 0.00355872, ..., 0.        , 0.        ,\n",
       "        0.        ]])"
      ]
     },
     "execution_count": 115,
     "metadata": {},
     "output_type": "execute_result"
    }
   ],
   "source": [
    "cluster_center"
   ]
  },
  {
   "cell_type": "code",
   "execution_count": 116,
   "metadata": {},
   "outputs": [
    {
     "data": {
      "text/plain": [
       "['ءات', 'ءاتنـ', 'ءاذ', 'ءام', 'ءامنـ', 'ءة', 'ءله', 'ءمر', 'ءمن']"
      ]
     },
     "execution_count": 116,
     "metadata": {},
     "output_type": "execute_result"
    }
   ],
   "source": [
    "terms[1:10]"
   ]
  },
  {
   "cell_type": "code",
   "execution_count": 117,
   "metadata": {},
   "outputs": [],
   "source": [
    "from sklearn import metrics\n",
    "silhouette_score = metrics.silhouette_score(bow, labels, metric='euclidean')"
   ]
  },
  {
   "cell_type": "code",
   "execution_count": 118,
   "metadata": {},
   "outputs": [
    {
     "data": {
      "text/plain": [
       "0.18003436494177047"
      ]
     },
     "execution_count": 118,
     "metadata": {},
     "output_type": "execute_result"
    }
   ],
   "source": [
    "# which tells us that clusters are far away from each other \n",
    "silhouette_score"
   ]
  },
  {
   "cell_type": "code",
   "execution_count": 119,
   "metadata": {},
   "outputs": [
    {
     "data": {
      "text/html": [
       "<div>\n",
       "<style scoped>\n",
       "    .dataframe tbody tr th:only-of-type {\n",
       "        vertical-align: middle;\n",
       "    }\n",
       "\n",
       "    .dataframe tbody tr th {\n",
       "        vertical-align: top;\n",
       "    }\n",
       "\n",
       "    .dataframe thead th {\n",
       "        text-align: right;\n",
       "    }\n",
       "</style>\n",
       "<table border=\"1\" class=\"dataframe\">\n",
       "  <thead>\n",
       "    <tr style=\"text-align: right;\">\n",
       "      <th></th>\n",
       "      <th>BookTitle</th>\n",
       "      <th>Author</th>\n",
       "      <th>BookSummary</th>\n",
       "      <th>Bow Class Labal</th>\n",
       "    </tr>\n",
       "  </thead>\n",
       "  <tbody>\n",
       "    <tr>\n",
       "      <th>0</th>\n",
       "      <td>التضحية عند الحيوان</td>\n",
       "      <td>[هارون يحيى]</td>\n",
       "      <td>روي كتب عرب عبر ربط ارخ كعرب او لغة عرب ارخ حد...</td>\n",
       "      <td>9</td>\n",
       "    </tr>\n",
       "    <tr>\n",
       "      <th>1</th>\n",
       "      <td>معجزة الذرة</td>\n",
       "      <td>[هارون يحيى]</td>\n",
       "      <td>روي كتب عرب عبر ربط ارخ كعرب او لغة عرب ارخ حد...</td>\n",
       "      <td>9</td>\n",
       "    </tr>\n",
       "  </tbody>\n",
       "</table>\n",
       "</div>"
      ],
      "text/plain": [
       "              BookTitle        Author  \\\n",
       "0   التضحية عند الحيوان  [هارون يحيى]   \n",
       "1           معجزة الذرة  [هارون يحيى]   \n",
       "\n",
       "                                         BookSummary  Bow Class Labal  \n",
       "0  روي كتب عرب عبر ربط ارخ كعرب او لغة عرب ارخ حد...                9  \n",
       "1  روي كتب عرب عبر ربط ارخ كعرب او لغة عرب ارخ حد...                9  "
      ]
     },
     "execution_count": 119,
     "metadata": {},
     "output_type": "execute_result"
    }
   ],
   "source": [
    "# Giving Labels/assigning a cluster to each point/text \n",
    "mydata['Bow Class Labal'] = model.labels_ # the last column you can see the label numebers\n",
    "mydata.head(2)"
   ]
  },
  {
   "cell_type": "code",
   "execution_count": 120,
   "metadata": {},
   "outputs": [
    {
     "data": {
      "text/plain": [
       "Bow Class Labal\n",
       "0       64\n",
       "1      430\n",
       "2       17\n",
       "3       33\n",
       "4       16\n",
       "5      151\n",
       "6       84\n",
       "7     2321\n",
       "8       96\n",
       "9      961\n",
       "10     287\n",
       "11      62\n",
       "12     223\n",
       "13     194\n",
       "14     110\n",
       "15     197\n",
       "16     116\n",
       "17      28\n",
       "18     227\n",
       "19     281\n",
       "Name: BookSummary, dtype: int64"
      ]
     },
     "execution_count": 120,
     "metadata": {},
     "output_type": "execute_result"
    }
   ],
   "source": [
    "mydata.groupby(['Bow Class Labal'])['BookSummary'].count()"
   ]
  },
  {
   "cell_type": "code",
   "execution_count": 124,
   "metadata": {},
   "outputs": [
    {
     "name": "stdout",
     "output_type": "stream",
     "text": [
      "Top terms per cluster:\n",
      "Cluster 0: كتب- انس- نصر- لسف- الي- حفظ- عرب- قال- ولد- ادب-\n",
      "Cluster 1: روي- كتب- عرب- ادب- شهر- حمد- حفظ- بدي- خلد- وفق-\n",
      "Cluster 2: ون- ين- ال- لل- ان- يم- اب- لر- ور- يه-\n",
      "Cluster 3: كتب- قطب- سيد- سلم- فكر- رحل- ادب- جمع- شهد- اخو-\n",
      "Cluster 4: لل- ين- ون- يم- ان- ام- ال- ول- اب- يل-\n",
      "Cluster 5: سلم- كتب- فكر- حمد- عمر- دكتور- علم- انه- جمع- حدث-\n",
      "Cluster 6: علم- كتب- نفس- درس- عام- بشر- رود- عقل- عرف- جمع-\n",
      "Cluster 7: كتب- علم- قرء- حمل- حمد- جمع- سلم- عام- يمك- عمل-\n",
      "Cluster 8: كتب- عرب- عام- الل- ارخ- حمد- روي- رسل- قصص- سلم-\n",
      "Cluster 9: كتب- عرب- ارخ- علم- عام- جمع- سلم- روي- حمد- درس-\n",
      "Cluster 10: كتب- سلم- حدث- جمع- حمد- علم- الل- كثر- دمشق- عبد-\n",
      "Cluster 11: حكم- كتب- سرح- وفق- حيت- شهر- ادب- دبي- عمل- كانت-\n",
      "Cluster 12: يكي- عدد- ومك- طفل- لتر- ديز- بطط- كتب- تحر- جال-\n",
      "Cluster 13: كتب- دين- علم- جلل- سيط- علماء- حفظ- طلب- فسر- كثر-\n",
      "Cluster 14: كتب- شيخ- قرضاو- سلم- وسف- علم- حصل- تمك- سنة- عصر-\n",
      "Cluster 15: رمض- يوم- شهر- سلم- مسك- بدأ- فطر- وقت- وفق- رؤة-\n",
      "Cluster 16: كتب- غزل- حمد- علم- ولد- هـ- طوس- دين- فقه- صوف-\n",
      "Cluster 17: ون- ين- لل- ال- ان- يم- اب- نت- لس- يه-\n",
      "Cluster 18: كتب- حمد- سلم- علم- لغز- لسل- نظر- عدد- ختخ- نقل-\n",
      "Cluster 19: الل- سلم- سعد- علم- كتب- ؤلف- عبد- دكتور- دين- قال-\n"
     ]
    }
   ],
   "source": [
    "#Refrence credit - to find the top 10 features of cluster centriod\n",
    "print(\"Top terms per cluster:\")\n",
    "order_centroids = model.cluster_centers_.argsort()[:, ::-1]\n",
    "terms = count_vect.get_feature_names()\n",
    "for i in range(20):\n",
    "    print(\"Cluster %d:\" % i, end='')\n",
    "    for ind in order_centroids[i, :10]:\n",
    "        print(' %s-' % terms[ind], end='')\n",
    "    print()"
   ]
  },
  {
   "cell_type": "code",
   "execution_count": 132,
   "metadata": {},
   "outputs": [
    {
     "data": {
      "image/png": "[encoded data removed]",
      "text/plain": [
       "<Figure size 432x288 with 1 Axes>"
      ]
     },
     "metadata": {
      "needs_background": "light"
     },
     "output_type": "display_data"
    }
   ],
   "source": [
    "# visually how points or reviews are distributed across 10 clusters \n",
    "import matplotlib.pyplot as plt\n",
    "plt.bar([x for x in range(20)], mydata.groupby(['Bow Class Labal'])['BookSummary'].count(), alpha = 0.5)\n",
    "plt.title('KMeans cluster points')\n",
    "plt.xlabel(\"Cluster number\")\n",
    "plt.ylabel(\"Number of Books\")\n",
    "plt.show()"
   ]
  },
  {
   "cell_type": "markdown",
   "metadata": {},
   "source": [
    "**kmean clustering using TF-IDF** "
   ]
  },
  {
   "cell_type": "code",
   "execution_count": 128,
   "metadata": {},
   "outputs": [
    {
     "data": {
      "text/plain": [
       "(5898, 15872)"
      ]
     },
     "execution_count": 128,
     "metadata": {},
     "output_type": "execute_result"
    }
   ],
   "source": [
    "from sklearn.feature_extraction.text import TfidfVectorizer\n",
    "tfidf_vect = TfidfVectorizer()\n",
    "tfidf = tfidf_vect.fit_transform(mydata['BookSummary'].values)\n",
    "tfidf.shape"
   ]
  },
  {
   "cell_type": "code",
   "execution_count": 129,
   "metadata": {},
   "outputs": [
    {
     "data": {
      "text/plain": [
       "KMeans(n_clusters=20, random_state=99)"
      ]
     },
     "execution_count": 129,
     "metadata": {},
     "output_type": "execute_result"
    }
   ],
   "source": [
    "from sklearn.cluster import KMeans\n",
    "model_tf = KMeans(n_clusters = 20,random_state=99)\n",
    "model_tf.fit(tfidf)"
   ]
  },
  {
   "cell_type": "code",
   "execution_count": 130,
   "metadata": {},
   "outputs": [],
   "source": [
    "labels_tf = model_tf.labels_\n",
    "cluster_center_tf=model_tf.cluster_centers_"
   ]
  },
  {
   "cell_type": "code",
   "execution_count": 131,
   "metadata": {},
   "outputs": [
    {
     "data": {
      "text/plain": [
       "array([[0., 0., 0., ..., 0., 0., 0.],\n",
       "       [0., 0., 0., ..., 0., 0., 0.],\n",
       "       [0., 0., 0., ..., 0., 0., 0.],\n",
       "       ...,\n",
       "       [0., 0., 0., ..., 0., 0., 0.],\n",
       "       [0., 0., 0., ..., 0., 0., 0.],\n",
       "       [0., 0., 0., ..., 0., 0., 0.]])"
      ]
     },
     "execution_count": 131,
     "metadata": {},
     "output_type": "execute_result"
    }
   ],
   "source": [
    "cluster_center_tf"
   ]
  },
  {
   "cell_type": "code",
   "execution_count": 133,
   "metadata": {},
   "outputs": [],
   "source": [
    "# to understand what kind of words generated as columns by BOW\n",
    "terms1 = tfidf_vect.get_feature_names()"
   ]
  },
  {
   "cell_type": "code",
   "execution_count": 134,
   "metadata": {},
   "outputs": [
    {
     "data": {
      "text/plain": [
       "['ءات', 'ءاتنـ', 'ءاذ', 'ءام', 'ءامنـ', 'ءة', 'ءله', 'ءمر', 'ءمن']"
      ]
     },
     "execution_count": 134,
     "metadata": {},
     "output_type": "execute_result"
    }
   ],
   "source": [
    "terms1[1:10]"
   ]
  },
  {
   "cell_type": "code",
   "execution_count": 135,
   "metadata": {},
   "outputs": [],
   "source": [
    "from sklearn import metrics\n",
    "silhouette_score_tf = metrics.silhouette_score(tfidf, labels_tf, metric='euclidean')"
   ]
  },
  {
   "cell_type": "code",
   "execution_count": 136,
   "metadata": {},
   "outputs": [
    {
     "data": {
      "text/plain": [
       "0.14474513124824395"
      ]
     },
     "execution_count": 136,
     "metadata": {},
     "output_type": "execute_result"
    }
   ],
   "source": [
    "silhouette_score_tf"
   ]
  },
  {
   "cell_type": "code",
   "execution_count": 137,
   "metadata": {},
   "outputs": [
    {
     "data": {
      "text/html": [
       "<div>\n",
       "<style scoped>\n",
       "    .dataframe tbody tr th:only-of-type {\n",
       "        vertical-align: middle;\n",
       "    }\n",
       "\n",
       "    .dataframe tbody tr th {\n",
       "        vertical-align: top;\n",
       "    }\n",
       "\n",
       "    .dataframe thead th {\n",
       "        text-align: right;\n",
       "    }\n",
       "</style>\n",
       "<table border=\"1\" class=\"dataframe\">\n",
       "  <thead>\n",
       "    <tr style=\"text-align: right;\">\n",
       "      <th></th>\n",
       "      <th>BookTitle</th>\n",
       "      <th>Author</th>\n",
       "      <th>BookSummary</th>\n",
       "      <th>Bow Class Labal</th>\n",
       "      <th>TF-IDF class label</th>\n",
       "    </tr>\n",
       "  </thead>\n",
       "  <tbody>\n",
       "    <tr>\n",
       "      <th>0</th>\n",
       "      <td>التضحية عند الحيوان</td>\n",
       "      <td>[هارون يحيى]</td>\n",
       "      <td>روي كتب عرب عبر ربط ارخ كعرب او لغة عرب ارخ حد...</td>\n",
       "      <td>9</td>\n",
       "      <td>3</td>\n",
       "    </tr>\n",
       "    <tr>\n",
       "      <th>1</th>\n",
       "      <td>معجزة الذرة</td>\n",
       "      <td>[هارون يحيى]</td>\n",
       "      <td>روي كتب عرب عبر ربط ارخ كعرب او لغة عرب ارخ حد...</td>\n",
       "      <td>9</td>\n",
       "      <td>3</td>\n",
       "    </tr>\n",
       "    <tr>\n",
       "      <th>2</th>\n",
       "      <td>لا تتجاهل</td>\n",
       "      <td>[هارون يحيى]</td>\n",
       "      <td>روي كتب عرب عبر ربط ارخ كعرب او لغة عرب ارخ حد...</td>\n",
       "      <td>9</td>\n",
       "      <td>3</td>\n",
       "    </tr>\n",
       "    <tr>\n",
       "      <th>3</th>\n",
       "      <td>الحياة في سبيل الله</td>\n",
       "      <td>[هارون يحيى]</td>\n",
       "      <td>روي كتب عرب عبر ربط ارخ كعرب او لغة عرب ارخ حد...</td>\n",
       "      <td>9</td>\n",
       "      <td>3</td>\n",
       "    </tr>\n",
       "    <tr>\n",
       "      <th>4</th>\n",
       "      <td>العظمة في كل مكان</td>\n",
       "      <td>[هارون يحيى]</td>\n",
       "      <td>روي كتب عرب عبر ربط ارخ كعرب او لغة عرب ارخ حد...</td>\n",
       "      <td>9</td>\n",
       "      <td>3</td>\n",
       "    </tr>\n",
       "  </tbody>\n",
       "</table>\n",
       "</div>"
      ],
      "text/plain": [
       "              BookTitle        Author  \\\n",
       "0   التضحية عند الحيوان  [هارون يحيى]   \n",
       "1           معجزة الذرة  [هارون يحيى]   \n",
       "2             لا تتجاهل  [هارون يحيى]   \n",
       "3   الحياة في سبيل الله  [هارون يحيى]   \n",
       "4     العظمة في كل مكان  [هارون يحيى]   \n",
       "\n",
       "                                         BookSummary  Bow Class Labal  \\\n",
       "0  روي كتب عرب عبر ربط ارخ كعرب او لغة عرب ارخ حد...                9   \n",
       "1  روي كتب عرب عبر ربط ارخ كعرب او لغة عرب ارخ حد...                9   \n",
       "2  روي كتب عرب عبر ربط ارخ كعرب او لغة عرب ارخ حد...                9   \n",
       "3  روي كتب عرب عبر ربط ارخ كعرب او لغة عرب ارخ حد...                9   \n",
       "4  روي كتب عرب عبر ربط ارخ كعرب او لغة عرب ارخ حد...                9   \n",
       "\n",
       "   TF-IDF class label  \n",
       "0                   3  \n",
       "1                   3  \n",
       "2                   3  \n",
       "3                   3  \n",
       "4                   3  "
      ]
     },
     "execution_count": 137,
     "metadata": {},
     "output_type": "execute_result"
    }
   ],
   "source": [
    "mydata1 = mydata\n",
    "mydata1['TF-IDF class label'] = model_tf.labels_\n",
    "mydata1.head(5)"
   ]
  },
  {
   "cell_type": "code",
   "execution_count": 138,
   "metadata": {},
   "outputs": [
    {
     "data": {
      "text/plain": [
       "TF-IDF class label\n",
       "0      119\n",
       "1      369\n",
       "2      116\n",
       "3     2332\n",
       "4       79\n",
       "5      293\n",
       "6      224\n",
       "7       62\n",
       "8      288\n",
       "9       96\n",
       "10     194\n",
       "11     131\n",
       "12      98\n",
       "13     100\n",
       "14     141\n",
       "15     147\n",
       "16      36\n",
       "17     627\n",
       "18     248\n",
       "19     198\n",
       "Name: BookSummary, dtype: int64"
      ]
     },
     "execution_count": 138,
     "metadata": {},
     "output_type": "execute_result"
    }
   ],
   "source": [
    "# How many points belong to each cluster ->\n",
    "\n",
    "mydata1.groupby(['TF-IDF class label'])['BookSummary'].count()"
   ]
  },
  {
   "cell_type": "code",
   "execution_count": 139,
   "metadata": {},
   "outputs": [
    {
     "name": "stdout",
     "output_type": "stream",
     "text": [
      "Top terms per cluster:\n",
      "Cluster 0: دمشق- يمي- فتى- سنة- بلغ- عصر- تقي- شيخ- حنبل- جمع-\n",
      "Cluster 1: روي- خلد- بدي- ادب- وفق- كتب- عرب- لسل- نجب- الك-\n",
      "Cluster 2: غزل- طوس- صوف- هـ- حمد- اسماعيلي- شفع- علم- فقه- مات-\n",
      "Cluster 3: كتب- علم- سلم- حمد- روي- الل- جمع- ارخ- قرأ- شيخ-\n",
      "Cluster 4: كتب- فقي- راهيم- حسن- ندي- كبت- كند- ندق- لخص- عرب-\n",
      "Cluster 5: دكتور- نبل- سلم- فكر- فرق- لطب- كتب- عمر- عام- انه-\n",
      "Cluster 6: يكي- ديز- ومك- لتر- بطط- تحر- طفل- كة- رسم- جال-\n",
      "Cluster 7: سرح- حكم- وفق- درا- حيت- دبي- بصف- كتب- ثوب- قلد-\n",
      "Cluster 8: لغز- ختخ- حمد- سحل- برا- لسل- كتب- سلم- حرب- اسكندرية-\n",
      "Cluster 9: الب- حدث- نبي- ضعف- صحح- حاديث- كتب- امم- نصر- حمد-\n",
      "Cluster 10: جلل- سيط- دين- كتب- علم- فسر- علماء- طلب- حفظ- اعت-\n",
      "Cluster 11: ين- ون- حنبل- لل- اب- ذهب- جهد- يم- وب- هـ-\n",
      "Cluster 12: فى- وسع- سلم- أحكام- نبي- عجز- ليل- صلى- فقه- وقع-\n",
      "Cluster 13: صلب- كتب- عقد- حرب- ارخ- زكر- عبس- عضو- وهى- حدث-\n",
      "Cluster 14: يمك- حمل- قرء- وكل- قلب- ثعب- ياب- كتب- عمل- عجز-\n",
      "Cluster 15: نفس- علم- كتب- انس- درس- نصر- رود- لسف- سلك- فرع-\n",
      "Cluster 16: نجي- شرح- يدو- دكتور- ورق- تجد- تيب- فيسيولوجي- قنت- بشت-\n",
      "Cluster 17: كتب- عرب- ارخ- روي- درس- عام- سلم- جمع- فكر- حمد-\n",
      "Cluster 18: فسر- سور- كثر- دمشق- كتب- الل- كشك- سلم- هـ- بصر-\n",
      "Cluster 19: رمض- مسك- يوم- فطر- شهر- رؤة- ايو- توقع- بدأ- وقت-\n"
     ]
    }
   ],
   "source": [
    "#Refrence credit - to find the top 10 features of cluster centriod\n",
    "print(\"Top terms per cluster:\")\n",
    "order_centroids = model_tf.cluster_centers_.argsort()[:, ::-1]\n",
    "for i in range(20):\n",
    "    print(\"Cluster %d:\" % i, end='')\n",
    "    for ind in order_centroids[i, :10]:\n",
    "        print(' %s-' % terms1[ind], end='')\n",
    "    print()"
   ]
  },
  {
   "cell_type": "code",
   "execution_count": 140,
   "metadata": {},
   "outputs": [
    {
     "data": {
      "image/png": "[encoded data removed]",
      "text/plain": [
       "<Figure size 432x288 with 1 Axes>"
      ]
     },
     "metadata": {
      "needs_background": "light"
     },
     "output_type": "display_data"
    }
   ],
   "source": [
    "# visually how points or reviews are distributed across 10 clusters \n",
    "\n",
    "plt.bar([x for x in range(20)], mydata1.groupby(['TF-IDF class label'])['BookSummary'].count(), alpha = 0.4)\n",
    "plt.title('KMeans cluster points')\n",
    "plt.xlabel(\"Cluster number\")\n",
    "plt.ylabel(\"Number of Books\")\n",
    "plt.show()"
   ]
  },
  {
   "cell_type": "code",
   "execution_count": null,
   "metadata": {},
   "outputs": [],
   "source": []
  },
  {
   "cell_type": "code",
   "execution_count": null,
   "metadata": {},
   "outputs": [],
   "source": []
  }
 ],
 "metadata": {
  "kernelspec": {
   "display_name": "Python 3",
   "language": "python",
   "name": "python3"
  },
  "language_info": {
   "codemirror_mode": {
    "name": "ipython",
    "version": 3
   },
   "file_extension": ".py",
   "mimetype": "text/x-python",
   "name": "python",
   "nbconvert_exporter": "python",
   "pygments_lexer": "ipython3",
   "version": "3.8.5"
  }
 },
 "nbformat": 4,
 "nbformat_minor": 4
}
